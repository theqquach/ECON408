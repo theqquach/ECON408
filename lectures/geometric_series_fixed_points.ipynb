{
  "cells": [
    {
      "cell_type": "markdown",
      "metadata": {},
      "source": [
        "# ECON408: Computational Methods in Macroeconomics\n",
        "\n",
        "Geometric Series, Fixed Points, and Asset Pricing\n",
        "\n",
        "Jesse Perla (University of British Columbia)\n",
        "\n",
        "# Overview\n",
        "\n",
        "## Motivation and Materials\n",
        "\n",
        "-   In this lecture, we will introduce **fixed points**, practice a\n",
        "    little Julia coding, move on to **geometric series**\n",
        "-   The applications will be to **asset pricing** and **Keynesian\n",
        "    multipliers**\n",
        "    -   Asset pricing, in particular, will be something we come back to\n",
        "        repeatedly as a way to practice our tools\n",
        "-   Even for those not interested in finance, you will see that many\n",
        "    problems are tightly related to asset pricing\n",
        "    -   Human capital accumulation, choosing when to accept jobs, etc.\n",
        "\n",
        "## Materials\n",
        "\n",
        "-   Adapted from QuantEcon lectures coauthored with John Stachurski and\n",
        "    Thomas J. Sargent\n",
        "    -   [Julia by\n",
        "        Example](https://julia.quantecon.org/getting_started_julia/julia_by_example.html)\n",
        "    -   [Geometric Series for Elementary\n",
        "        Economics](https://julia.quantecon.org/tools_and_techniques/geom_series.html)"
      ],
      "id": "af3dc44a-a223-4aad-99cf-7d9f00066bd1"
    },
    {
      "cell_type": "code",
      "execution_count": 1,
      "metadata": {},
      "outputs": [],
      "source": [
        "using LinearAlgebra, Statistics, Plots, Random, Distributions, LaTeXStrings\n",
        "default(;legendfontsize=16)"
      ],
      "id": "78a57bdf"
    },
    {
      "cell_type": "markdown",
      "metadata": {},
      "source": [
        "# Intro to Fixed Points\n",
        "\n",
        "## Fixed Points\n",
        "\n",
        "-   Fixed points are everywhere!\n",
        "    -   Lets first look at the mechanics and practice code, then apply\n",
        "        them.\n",
        "-   Take a mapping $f : X \\to X$ for some set $X$.\n",
        "    -   If there exists an $x^* \\in X$ such that $f(x^*) = x^*$, then\n",
        "        $x^*$: is called a “fixed point” of $f$\n",
        "-   A fixed point is a property of a function, and may not be unique\n",
        "-   Lets walk through the math, and then practice a little more Julia\n",
        "    coding with them\n",
        "\n",
        "## Simple, Linear Example\n",
        "\n",
        "-   For given scalars $y,\\beta$ and a scalar $v$ of interest\n",
        "\n",
        "$$\n",
        "v = y + \\beta v\n",
        "$$\n",
        "\n",
        "-   If $|\\beta| < 1$, then this can can be solved in closed form as\n",
        "    $v = y/(1 - \\beta)$\n",
        "-   Rearrange the equation in terms of a map\n",
        "    $f : \\mathbb R \\to \\mathbb R$\n",
        "\n",
        "$$\n",
        "f(v) := y + \\beta v\n",
        "$$\n",
        "\n",
        "-   Therefore, a fixed point $f(\\cdot)$ is a solution to the above\n",
        "    problem such that $v = f(v)$\n",
        "\n",
        "## Fixed Point Iteration\n",
        "\n",
        "-   Consider iteration of the map $f$ starting from an initial condition\n",
        "    $v_0$\n",
        "\n",
        "    $$\n",
        "    v_{n+1} = f(v_n)\n",
        "    $$\n",
        "\n",
        "-   Does this converge? Depends on $f(\\cdot)$, as we will explore in\n",
        "    detail\n",
        "\n",
        "    -   It shouldn’t depend on $v_0$ or there is an issue\n",
        "\n",
        "-   See [Banach’s fixed-point\n",
        "    theorem](https://en.wikipedia.org/wiki/Banach_fixed-point_theorem)\n",
        "\n",
        "## When to Stop Iterating?\n",
        "\n",
        "-   If $v_n$ is a scalar, then we can check convergence by looking at\n",
        "    $|v_{n+1} - v_n|$ with some threshold, which may be problem\n",
        "    dependent\n",
        "    -   If $v_n$ will be a vector, so we should use a norm\n",
        "        $||v_{n+1} - v_n||$\n",
        "    -   e.g. the Euclidean norm, `norm(v_new - v_old)` in Julia\n",
        "-   Keep numerical precision in mind! Can see this in Julia with the\n",
        "    following"
      ],
      "id": "3a99755b-6be8-43e8-a7dc-4b8c3aa9cf2a"
    },
    {
      "cell_type": "code",
      "execution_count": 2,
      "metadata": {},
      "outputs": [
        {
          "output_type": "stream",
          "name": "stdout",
          "text": [
            "eps() = 2.220446049250313e-16\n",
            "1.0 + eps() / 2 > 1.0 = false"
          ]
        }
      ],
      "source": [
        "@show eps() #machine epsilon, the smallest number such that 1.0 + eps() > 1.0\n",
        "@show 1.0 + eps()/2 > 1.0;"
      ],
      "id": "07f07711"
    },
    {
      "cell_type": "markdown",
      "metadata": {},
      "source": [
        "## Verifying with the Linear Example\n",
        "\n",
        "-   For our simple linear map: $f(v) \\equiv y + \\beta v$\n",
        "\n",
        "-   Iteration becomes $v_{n+1} = y + \\beta v_n$. Iterating backwards $$\n",
        "    v_{n+1} = y + \\beta v_n = y + \\beta y + \\beta^2 v_{n-1} = y \\sum_{i=0}^{n-1} \\beta^i + \\beta^n v_0\n",
        "    $$\n",
        "\n",
        "    -   $\\sum_{i=0}^{n-1} \\beta^i = \\frac{1 - \\beta^n}{1 - \\beta}$ and\n",
        "        $\\sum_{i=0}^{\\infty} \\beta^i = \\frac{1}{1 - \\beta}$ if\n",
        "        $|\\beta| < 1$\n",
        "    -   So $n \\to \\infty$, converges to $v = y/(1 - \\beta)$ for all\n",
        "        $v_0$\n",
        "\n",
        "## Implementing with For Loop"
      ],
      "id": "bab34f4d-30c5-4a1f-b0d4-fa55950b3893"
    },
    {
      "cell_type": "code",
      "execution_count": 3,
      "metadata": {},
      "outputs": [
        {
          "output_type": "stream",
          "name": "stdout",
          "text": [
            "Fixed point = 9.999999081896231  |f(x) - x| = 9.181037796679448e-8 in 154 iterations"
          ]
        }
      ],
      "source": [
        "y = 1.0\n",
        "beta = 0.9\n",
        "v_iv = 0.8 # initial condition\n",
        "v_old = v_iv\n",
        "normdiff = Inf\n",
        "iter = 1\n",
        "for i in 1:1000\n",
        "    v_new = y + beta * v_old # the f(v) map\n",
        "    normdiff = norm(v_new - v_old)\n",
        "    if normdiff < 1.0E-7 # check convergence\n",
        "        iter = i\n",
        "        break # converged, exit loop\n",
        "    end\n",
        "    v_old = v_new # replace and continue\n",
        "end\n",
        "println(\"Fixed point = $v_old  |f(x) - x| = $normdiff in $iter iterations\");"
      ],
      "id": "d86c8178"
    },
    {
      "cell_type": "markdown",
      "metadata": {},
      "source": [
        "## Implementing in Julia with While Loop"
      ],
      "id": "e670c46d-2039-4e91-a598-a5245ce6ec70"
    },
    {
      "cell_type": "code",
      "execution_count": 4,
      "metadata": {},
      "outputs": [
        {
          "output_type": "stream",
          "name": "stdout",
          "text": [
            "Fixed point = 9.999999173706609  |f(x) - x| = 9.181037796679448e-8 in 155 iterations"
          ]
        }
      ],
      "source": [
        "v_old = v_iv\n",
        "normdiff = Inf\n",
        "iter = 1\n",
        "while normdiff > 1.0E-7 && iter <= 1000\n",
        "    v_new = y + beta * v_old # the f(v) map\n",
        "    normdiff = norm(v_new - v_old)\n",
        "    v_old = v_new # replace and continue\n",
        "    iter = iter + 1\n",
        "end\n",
        "println(\"Fixed point = $v_old  |f(x) - x| = $normdiff in $iter iterations\")"
      ],
      "id": "a05488b8"
    },
    {
      "cell_type": "markdown",
      "metadata": {},
      "source": [
        "## Avoid Global Variables"
      ],
      "id": "ec48f205-7077-4c87-9913-6f238b5c59df"
    },
    {
      "cell_type": "code",
      "execution_count": 5,
      "metadata": {},
      "outputs": [
        {
          "output_type": "stream",
          "name": "stdout",
          "text": [
            "Fixed point = 9.999999173706609 |f(x) - x| = 9.181037796679448e-8 in 155 iterations"
          ]
        }
      ],
      "source": [
        "function v_fp(beta, y, v_iv; tolerance = 1.0E-7, maxiter=1000)\n",
        "    v_old = v_iv\n",
        "    normdiff = Inf\n",
        "    iter = 1\n",
        "    while normdiff > tolerance && iter <= maxiter\n",
        "        v_new = y + beta * v_old # the f(v) map\n",
        "        normdiff = norm(v_new - v_old)\n",
        "        v_old = v_new\n",
        "        iter = iter + 1\n",
        "    end\n",
        "    return (v_old, normdiff, iter) # returns a tuple\n",
        "end\n",
        "y = 1.0\n",
        "beta = 0.9\n",
        "v_star, normdiff, iter = v_fp(beta, y, 0.8)\n",
        "println(\"Fixed point = $v_star |f(x) - x| = $normdiff in $iter iterations\")"
      ],
      "id": "a0b1fd8c"
    },
    {
      "cell_type": "markdown",
      "metadata": {},
      "source": [
        "## Use a Higher Order Function and Named Tuple\n",
        "\n",
        "-   Why hardcode the mapping? Pass it in as a function\n",
        "-   Lets add in keyword arguments and use a named tuple for clarity"
      ],
      "id": "da5dc80c-3592-43fc-aff3-1d24f771acef"
    },
    {
      "cell_type": "code",
      "execution_count": 6,
      "metadata": {},
      "outputs": [
        {
          "output_type": "display_data",
          "metadata": {},
          "data": {
            "text/plain": [
              "fixedpointmap (generic function with 1 method)"
            ]
          }
        }
      ],
      "source": [
        "function fixedpointmap(f, iv; tolerance = 1.0E-7, maxiter=1000)\n",
        "    x_old = iv\n",
        "    normdiff = Inf\n",
        "    iter = 1\n",
        "    while normdiff > tolerance && iter <= maxiter\n",
        "        x_new = f(x_old) # use the passed in map\n",
        "        normdiff = norm(x_new - x_old)\n",
        "        x_old = x_new\n",
        "        iter = iter + 1\n",
        "    end\n",
        "    return (; value = x_old, normdiff, iter) # A named tuple\n",
        "end"
      ],
      "id": "b47c1b58"
    },
    {
      "cell_type": "markdown",
      "metadata": {},
      "source": [
        "## Passing in a Function"
      ],
      "id": "646e68b5-6ed4-4788-b720-03b5a0e275ab"
    },
    {
      "cell_type": "code",
      "execution_count": 7,
      "metadata": {},
      "outputs": [
        {
          "output_type": "stream",
          "name": "stdout",
          "text": [
            "Fixed point = 9.999999918629035 |f(x) - x| = 9.041219328764782e-9 in 177 iterations\n",
            "Fixed point = 9.999999918629035 |f(x) - x| = 9.041219328764782e-9 in 177 iterations"
          ]
        }
      ],
      "source": [
        "y = 1.0\n",
        "beta = 0.9\n",
        "v_initial = 0.8\n",
        "f(v) = y + beta * v # note that y and beta are used in the function!\n",
        "sol = fixedpointmap(f, 0.8; tolerance = 1.0E-8) # don't need to pass\n",
        "println(\"Fixed point = $(sol.value) |f(x) - x| = $(sol.normdiff) in $(sol.iter) iterations\")\n",
        "\n",
        "# Or use unpacking notation for the tuples, using anonymous function\n",
        "(; value, normdiff, iter) = fixedpointmap(v -> y + beta * v, # creates an anonymous \"closure\"\n",
        "                                          v_initial; tolerance = 1.0E-8)\n",
        "println(\"Fixed point = $value |f(x) - x| = $normdiff in $iter iterations\")"
      ],
      "id": "6520c6fa"
    },
    {
      "cell_type": "markdown",
      "metadata": {},
      "source": [
        "## Other Algorithms\n",
        "\n",
        "-   VFI is instructive, but not always the fastest\n",
        "-   Can also write as a “root finding” problem\n",
        "    -   i.e. $\\hat{f}(x) \\equiv f(x) - x$ so that $\\hat{f}(x^*) = 0$ is\n",
        "        the fixed point\n",
        "    -   These can be especially fast if $\\nabla \\hat{f}(\\cdot)$ is\n",
        "        available\n",
        "-   Another is called Anderson Acceleration\n",
        "    -   The fixed-point iteration we have above is a special case\n",
        "\n",
        "## Use Packages with Better Algorithms\n",
        "\n",
        "-   [NLsolve.jl](https://github.com/JuliaNLSolvers/NLsolve.jl/) has\n",
        "    equations for solving equations (and fixed points)\n",
        "    -   e.g., 3 iterations, not 177, for Andersen Acceleration\n",
        "-   Uses multi-dimensional maps, so can write in that way rather than\n",
        "    scalar"
      ],
      "id": "d4bf2b7e-8f2d-4f56-bc80-cb91992a7b4d"
    },
    {
      "cell_type": "code",
      "execution_count": 8,
      "metadata": {},
      "outputs": [
        {
          "output_type": "stream",
          "name": "stdout",
          "text": [
            "Fixed point = [9.999999999999972] |f(x) - x| = 3.552713678800501e-15  in 3 iterations"
          ]
        }
      ],
      "source": [
        "using NLsolve\n",
        "# best style\n",
        "y = 1.0\n",
        "beta = 0.9\n",
        "iv = [0.8] # note move to array\n",
        "f(v) = y .+ beta * v # note that y and beta are used in the function!\n",
        "sol = fixedpoint(f, iv) # uses Anderson Acceleration\n",
        "fnorm = norm(f(sol.zero) .- sol.zero)\n",
        "println(\"Fixed point = $(sol.zero) |f(x) - x| = $fnorm  in $(sol.iterations) iterations\")"
      ],
      "id": "974a94e9"
    },
    {
      "cell_type": "markdown",
      "metadata": {},
      "source": [
        "# Geometric Series and PDVs\n",
        "\n",
        "## Geometric Series\n",
        "\n",
        "-   Finite geometric series\n",
        "\n",
        "$$\n",
        "1 + c + c^2 + c^3 + \\cdots + c^T  = \\frac{1 - c^{T+1}}{1-c}\n",
        "$$\n",
        "\n",
        "-   Infinite geometric series, requiring $|c| < 1$\n",
        "\n",
        "$$\n",
        "1 + c + c^2 + c^3 + \\cdots = \\frac{1}{1 -c }\n",
        "$$\n",
        "\n",
        "## Discounting\n",
        "\n",
        "-   In discrete time, $t = 0, 1, 2, \\ldots$\n",
        "-   Let $r > 0$ be a one-period **net nominal interest rate**\n",
        "-   A one-period **gross nominal interest rate** $R$ is defined as $$\n",
        "    R = 1 + r > 1\n",
        "    $$\n",
        "-   If the nominal interest rate is $5$ percent, then $r= 0.05$ and\n",
        "    $R = 1.05$\n",
        "\n",
        "## Interpretation as Prices\n",
        "\n",
        "-   The gross nominal interest rate $R$ is an **exchange rate** or\n",
        "    **relative price** of dollars at between times $t$ and $t+1$. The\n",
        "    units of $R$ are dollars at time $t+1$ per dollar at time $t$.\n",
        "-   When people borrow and lend, they trade dollars now for dollars\n",
        "    later or dollars later for dollars now.\n",
        "-   The price at which these exchanges occur is the gross nominal\n",
        "    interest rate.\n",
        "    -   If I sell $x$ dollars to you today, you pay me $R x$ dollars\n",
        "        tomorrow.\n",
        "    -   This means that you borrowed $x$ dollars for me at a gross\n",
        "        interest rate $R$ and a net interest rate $r$.\n",
        "-   In equilibrium, the prices for borrowing and lending should be\n",
        "    related\n",
        "\n",
        "## Where do Interest Rates Come From?\n",
        "\n",
        "-   More later, but consider connection to a discount factor\n",
        "    $\\beta \\in (0,1)$ in **consumer preferences**\n",
        "-   This represents how much consumers value future consumption tomorrow\n",
        "    relative to today\n",
        "-   In some simple cases $R^{-1} = \\beta$ makes sense\n",
        "    -   Much more later, including how to think about cases with\n",
        "        randomness\n",
        "-   For now, just use $R^{-1}$ directly as a discount factor, thinking\n",
        "    about risk-neutrality\n",
        "\n",
        "## Accumulation\n",
        "\n",
        "-   $x, x R, x R^2, \\cdots$ tells us how investment of $x$ dollar value\n",
        "    of an investment **accumulate** through time. Compounding\n",
        "-   Reinvested in the project (i.e., compounding)\n",
        "    -   thus, $1$ dollar invested at time $0$ pays interest $r$ dollars\n",
        "        after one period, so we have $r+1 = R$ dollars at time $1$\n",
        "    -   at time $1$ we reinvest $1+r =R$ dollars and receive interest of\n",
        "        $r R$ dollars at time $2$ plus the **principal** $R$ dollars, so\n",
        "        we receive $r R + R = (1+r)R = R^2$ dollars at the end of period\n",
        "        $2$\n",
        "\n",
        "## Discounting\n",
        "\n",
        "-   $1, R^{-1}, R^{-2}, \\cdots$ tells us how to **discount** future\n",
        "    dollars to get their values in terms of today’s dollars.\n",
        "-   Tells us how much future dollars are worth in terms of today’s\n",
        "    dollars.\n",
        "-   Remember that the units of $R$ are dollars at $t+1$ per dollar at\n",
        "    $t$.\n",
        "    -   the units of $R^{-1}$ are dollars at $t$ per dollar at $t+1$\n",
        "    -   the units of $R^{-2}$ are dollars at $t$ per dollar at $t+2$\n",
        "    -   and so on; the units of $R^{-j}$ are dollars at $t$ per dollar\n",
        "        at $t+j$\n",
        "\n",
        "## Asset Pricing\n",
        "\n",
        "-   An asset has payments stream of $y_t$ dollars at times\n",
        "    $t = 0, 1, 2, \\ldots, G \\equiv 1+g, g > 0$ and $G < R \\equiv 1 + r$\n",
        "\n",
        "    $$\n",
        "    y_t = G^t y_0\n",
        "    $$\n",
        "\n",
        "    -   i.e. grows at $g$ percent, discounted at $r$ percent\n",
        "\n",
        "-   The **present value** of the asset is\n",
        "\n",
        "    $$\n",
        "    \\begin{aligned} \n",
        "    p_0  & = y_0 + y_1/R + y_2/(R^2) + \\cdots = \\sum_{t=0}^{\\infty} y_t (1/R)^t = \\sum_{t=0}^{\\infty} y_0 G^t (1/R)^t \\\\\n",
        "    &= \\sum_{t=0}^{\\infty} y_0 (G/R)^t = y_0/(1 - G R^{-1})\n",
        "    \\end{aligned}\n",
        "    $$\n",
        "\n",
        "## Gordon Formula\n",
        "\n",
        "-   For small $r$ and $g$, use a Taylor series or $r g \\approx 0$ to get\n",
        "\n",
        "    $$\n",
        "    G R^{-1} \\approx 1 + g - r\n",
        "    $$\n",
        "\n",
        "-   Hence,\n",
        "\n",
        "$$\n",
        "p_0  = y_0/(1 - (1+g)/(1+r)) \\approx y_0 / (r - g)\n",
        "$$\n",
        "\n",
        "## Assets with Finite Lives\n",
        "\n",
        "-   Consider an asset that pays $y_t = 0$ for $t > T$ and\n",
        "    $y_t = G^t y_0$ for $t \\leq T$\n",
        "\n",
        "    -   i.e., the same process but truncated it $T$ periods\n",
        "\n",
        "-   The present value is\n",
        "\n",
        "    $$\n",
        "    \\begin{aligned} \n",
        "    p_0  &= \\sum_{t=0}^{T} y_t (1/R)^t = \\sum_{t=0}^{T} y_0 G^t (1/R)^t \\\\\n",
        "    &= \\sum_{t=0}^{T} y_0 (G/R)^t = y_0\\frac{1 - (G/R)^{T+1}}{1 - G/R}\n",
        "    \\end{aligned}\n",
        "    $$\n",
        "\n",
        "-   How large is $(G/R)^{T+1}$?\n",
        "\n",
        "    -   If small, then infinite horizon may be a good approximation\n",
        "\n",
        "## Is Infinite Horizon a Reasonable Approximation?\n",
        "\n",
        "-   Implement these in code to compare"
      ],
      "id": "70cfa4be-af99-4c47-b5b0-494e690d02a1"
    },
    {
      "cell_type": "code",
      "execution_count": 9,
      "metadata": {},
      "outputs": [
        {
          "output_type": "stream",
          "name": "stdout",
          "text": [
            "infinite_payoffs(0.01, 0.05, 1.0) = 26.24999999999994\n",
            "finite_payoffs(100, 0.01, 0.05, 1.0) = 25.73063957477331"
          ]
        }
      ],
      "source": [
        "infinite_payoffs(g, r, y_0) = y_0 / (1 - (1 + g) * (1 + r)^(-1))\n",
        "function finite_payoffs(T, g, r, y_0)\n",
        "    G = 1 + g\n",
        "    R = 1 + r\n",
        "    return (y_0 * (1 - G^(T + 1) * R^(-T - 1))) / (1 - G * R^(-1))\n",
        "end\n",
        "@show infinite_payoffs(0.01, 0.05, 1.0)\n",
        "@show finite_payoffs(100, 0.01, 0.05, 1.0);"
      ],
      "id": "ae59494b"
    },
    {
      "cell_type": "markdown",
      "metadata": {},
      "source": [
        "## Comparing Different Horizons"
      ],
      "id": "999bc368-15a2-470a-93d0-62a421d6a265"
    },
    {
      "cell_type": "code",
      "execution_count": 10,
      "metadata": {
        "output-location": "column"
      },
      "outputs": [
        {
          "output_type": "display_data",
          "metadata": {},
          "data": {
            "text/html": [
              "<img src=\"data:image/png;base64,iVBORw0KGgoAAAANSUhEUgAAAkAAAAGACAIAAADK+EpIAAAABmJLR0QA/wD/AP+gvaeTAAAgAElEQVR4nO3deVwU9f8H8M/MLiy7y32ogKKgeN94g6Ff7ysVLY/uMo/UMs0rKy395s+yw0xLLY/MTM0rU1NT8YpMQcULxAtB5WaBvXdnPr8/xi+RrLjg3vt6Pnz4mJ2dnX3vsMyLz2dmPsNQSgkAAICzYe1dAAAAQE0gwAAAwCkhwAAAwCkhwAAAwCkhwAAAwCkhwAAAwCkhwAAAwCkhwAAAwCkhwAAAwCnZIsBKS0tt8C4AAOBWbBFgL7zwQlJSkpkLazQajG5lewaDwWAw2LsKd6TRaOxdgjtSq9X2LsEdWXyziy27OpMMBoNerzdzYZ7nrVoMmIQ/GuyCUoovvF1gs9uFxTc7joEBAIBTQoABAIBTQoABAIBTQoABAIBTQoABAIBTQoABAIBTQoABAIBTssV1YPUktO7RdXlnf3lovig4NOild4Vp3bXzJXu+J4TwPK9iK8QqwwS9Nl/kF0QI4bXqgm/fJRxX+S18eo+StokTpou3LDNkX6+8jKRhK79h44Vp9d+HlCd+NVGr2DNkyhJGJCaEGPPvFv2whBATF0j5j5zsWb+pMF2w6n1eqai8jDSmp0+PBGG69NBmbeqflZcRBdQKevX9B1vgemrJ7jUmSmKYoFffF/mHEEKoXpu/ci7hjJWX8vnPM9J2TwnTxduWG+5cq7yMZ2Rz/4RJwrT67BHlsZ3lTwnXgTEMQ8QeIZOXMGIPQoix8H7R+sWmt0DCRM/IFg+2wJr5fGmRiS3Q9imfXs8I02V/bNFcOGliC/gHB702/8EWuHmpZOcqE1uAMIGvzBMH1iaEUIM+f+UcYjRxzbV3jwRZTE9hWvHLCn1mmoktUL+p/8jJD7ZASqLy6HYT7yYSh0xewnh4EkK4orzCdYtMbgG/YeMlDVsJ04Xff8Qp8isvI20T59N7lDBdduQXzbljlZehcj/5xEXCtP7WFcWOb0yURJjAl+aKg0MJIZQz5n89y/QWeGqYrGMvYVqx4xv9rSuVl/GoFx3w7JvCtObc8bIj20y8m0gc8sZixtOLEMIpCgrXfkRMXSbo9/Q4SXQbYbpw3SKuKLfyMl6tuvn2HSNMlyXu0CQfrbwM6+0fPGGhMK3PTFP8ssJESYQJfHG2OCScEEJ4Lv/rWdRg4tJSefen5Z36CNMlu1brblysvIxHeMOA0dOEaU3qqbJDP5t4N5EoeOLHrJeMEMKVFBZ+/6HpLTDkVUnjdsJ04YaPuYL7lZfxatHZt//zwrTy+G71mT8qL8PKfIInfSxM67MyFFu/MlESYQKef8ejdgQhhPB8/tezqEFXeSF57GB5l37CdMme73XXzldexiMsMmDMdGFaczGp7OBPJt6NFQVPWMTKvAkhXFlx4ZoFhJq4hMt30MteTWOE6aKNS4x52ZWX8Wre0XfAi8K07vQB9flEE5/NSx4y+f+EacPdG8U/f0kIkTRp7zf4FRO1VXyhDa5gHTpo4KzJ4zt37vzwe3t4iXwDhGlqNHAlBYQQtVotlUoZhilfShxUp/wlXFEepSYCTOQbJOxxCCG8soTXmbjem/WSs3LfB2+n13JlxZWXYURiISoIIYRSY1GOyU8k8g8RQo4QwpUUUqOJ3yVW7if8AhBCeI2SV5eZeLuKW4AzmtwJEsKIA2uT/20QrjiP8qa2gE8g4yl58HbV3wLCMBweHh412QKlRSZ/l1i5L+slf1CSVsWrTIwoxnhIRL6BD97NgltAVcprVSZK+tcW0HFlJnKXYUWigFoPHlBqLMo1GWAW2QKUUq2R96lT98HDR24BIg6s888WUORTU3/EiHwChNQhVWwBiYz19nvwdpbcAsXUoDXxdjIfVur9oCStmleVmHg7safwFyohhPCcsTiv8jLE0ltAqVR6e3tTg54rLTRREiMSBdYqf2gszDG9BfyChT/1CCFcWTHVm9oCUh8hBoiFt0AB5Uz8ESPy9mck0gdrUpfxGqWJkiRS1ttfmLbxFlAWFXhRE2X/ewvwxuLch+p8FFsE2MCBA2fPnh0fH2/OwiqVSiaTVQgwsAVhqBRPT097F+JeKKVqtVoul9u7ELcjBJi9q3A7Ft/sOAYGAABOCQEGAABOCQEGAABOyRZnIQIAgFsx8ERpIMV6qjQQpYEojaRET9Ua9vlmRGS5MxwQYAAA8Eg8JSV6UqynJXpSoiclelpqIKV6UmogJXqq0JFSAykz0DIDKdWTEj0pNdAyA5GJibeY8fEgcg/i50l8PRhvDyJn2FE8EYksVhsCDADAvZQZSLGOFutJse7BhEJHivVUoSMKPVHoqUJPFDpSoicKPaWE+Hkyfh7Ez1P4x/h5En9P4uvJhMuYZv7Ex4P4erABEuLjQXw8GB8P4u1h+n2VSo2X5dKLIMAAAFyD0kCKdLRASwp0pFBLi3SkSEeKdLRQS4p0tFj/4GGZgfh4kABPJkBCAiQPJvw9ib+Eqe9NAjyJv4T193wwx9/Tkj1+FocAAwBwaBwl+VqSr6EFOpKnoQVaUqAlBdp/HhbqSJGOeotJkBcTJHnwf6CEBEqYJn5MUG0SJGEDJSRAQgIljM8jmkfOyNwAMxqNt2/flkqlYWFh5VcZl5SUlN8i2svLSyqVWqVGAADXpTKS+2qaqyH5Wnpf/SCrcjQkT0PztaRASzUcqeXF1JKSYC8S7MUES0gtKdM+WMgqNtiLBEmYYC97fwx7MCvAtm7dOnXq1NDQUIVCERYW9uuvvwYHBxNCWrZsWVZWxrIsIWTGjBnz5s2zbrEAAM6GoyRXQ++ryX01ydHQe2qSp6H31CRXQ3PUJE9L5WJSS8rUkZLaUibEi9SWMjHBTIiUqeVFaktJiBcjRU/ZI5i1YZo2bZqamlq7dm2e54cPH7548eLPPvtMeCo5Oblhw4bWrBAAwNHla8k9Nc1WkXsqek9N7qnpPTW9pyb31bTMQOpImToyEiZjQmWktpTpGMLU8mLC5A8Sy5EPMjk4swKsdevWwgTLsm3atLlz5075Uzdv3tRqtdHR0RhGDwBcW66GZKlotopmKUm2it5VkztKeldF8rQ0wJOp501CZUxdOQmTMXF1mHAZGyoj4XLG14WOOTma6jVNi4qKNmzYsGbNg7t+yOXyjz76SK1W379//6effurRo4fJVykUil9//fXq1avCw+bNm8fGxj7qLTiO4zgOg/naGMdx5f+DzVBKhS+8vQtxO1Vsdi1HMpU0S8XcUdIsFbmtJHeU9K6aydHQIAlTV04j5Ey4nITLSOcQEi5jwmWktpRh/7XHohX+N3kDKDdV3W+76HGXjFUjwDQazYgRI0aNGtW3b19hTmpqqtDw+u6771588cWKLbOKVCpVWlpaScmD+wgwDNOpU6dHvYvBYDAYDAgwGxNup4LNbmOUUuELb+9C3I7BYFDpDHeU5LaKua0kmUqSqWLuKEmmimg4JkJOIuQ0Qk7ryUnfUFpPTiLktLYXYR/x+8EZCULKHNX6tjMM89gAM/d2KjqdbujQoZGRkStXrqy8m1OpVN7e3vn5+cLJHQ/B7VQcH26nYhe4nYpt5GvJ9VJ6s5TeLCM3y+jNUnqjlJYZSH0fJtKHifQhkd5MAx9S35tp4MP445fAaix+OxWzWmB6vf7ZZ58NDQ1dsWJFebRQSsunk5KSfH19AwMDLVgZAEB15WhIRgnNKKXXS+j1UnKjjN4opb4eTENfEuXDRPkyfcOZqKZsbZG6QRD+bnB6ZgXY0qVL9+/f//TTT48ePZoQ0rJlyw8++ODkyZMzZ87s2LGjUqncvXv3l19+KZxPDwBgA6UGcq2EXiuhaQp6rYRklNIbpdTfk4n2I418mWhfpkst0tCXbejLVB6+SKm0+o18wQbMCrBnn3224lEroaXVpUuXpUuXXr9+XSaTffjhhxEREdaqEQDcXpaKpilImoJeVdBrJTSthOg42sSPaeLHNPZjRkWRxn5sI19GYtGh9sDBmRVgjRo1atSo0UMzPTw84uLi4uLirFAVALgvSkhmGb2iIJeL6VUFvVxMM0ppoIRp7s809Scxwczzjdim/kygxN6Fgr3hCm8AsLMcDblURFOL6OVieqmYXiuhtaRMywCmeQDpG8682YJt6m+iGxAAAQYANqXjyOVieqGIpv7vn1zMtAwgrQKZXuHM1BZsM3/0BIJZEGAAYF1FOpJSQM8X0XMF9EIRvauiTf2ZNoFMmyBmZCTbMoDxw5nrUCMIMACwsPtqklJIUwpocgE9V0j1HG0bxLQLYoY1YBa0Zxv6Mo+6IhigWhBgAPCkCrTkbAE9k0/PFtCz+VTEkJhgpn0w83pTtn0QEyqzd33gohBgAFBtaiNJKaB/59PT+fTvfKrjaMcQtkMwM7Ep26E7E+KW96YC20OAAYBZ0kvo6TyalEf/yqOZSto2kOlcixkdxXzemQ2Xo08Q7AABBgCmqY3kTD49mUuTcvm/82mIF9OlFtOtNjOlOdvMH8exwP4QYADwjzwNOZXLn8ihf+bRdAVtH8zE1WamtBB1rYVzBcHhIMAA3F2Wiibepydy6MkcWqyjcXXY7nWY5xqxbQIZMcY3BQeGAANwR3eUNPE+TbxPj92nPCFP1WGeqsPMaMU28UPPIDgNBBiAu8jVkKP3+CP36ZF7lKckPpTpGcrMb8/W90ZogVNCgAG4MqWBHMuhh+7yh+/SQh3tGcr+J4yZ24aN9EFogdNDgAG4Gp6S5AJ6IJseustfKqbdajN9wtnxvdjm/ggtcCkIMAAXkashB7L537PpkXt8Ax+mbzizqIOoSy3GAydigItCgAE4MZ6Sv/Pp3ix+Xxa9r6b96rJPRzDLu3kE4V5Z4AYQYADOR6EnB7L53+7QQ3f5SB9mUD12TRzbLphBFyG4FQQYgNO4WUb3ZNI9d/jzhbRXODskgvmii0cwBh4Ed4UAA3B05wrprtv8rkxaaiBDIpg5bURPhTKeOLIFbg8BBuCIeEpO5tIdt/ndmdTfkwyrz/7Qg20TiD5CgH8gwAAcCEdJ4n26/Ra/K5OP8mFGRLJHBuKaLQDTEGAA9sdRcuw+3XKT353JN/NnRkay77UTh8mQWwBVQYAB2A1PyZ/57O4L3I7bfGM/ZlQUuzDGo5bU3mUBOAkEGIAdXCiim67zW27SUC92bDRzdhjaWwDVhgADsJ1MJf3xOv3pOs8wZGxD9uhAprZIJ5fjqmOAmkCAAVhdqYFsv8VvyOBvlpLRDZmf/iMSzieklKrV9i4OwGkhwACshafkj3t0wzX+0F2+f112XltRrzCGRU8hgIUgwAAs72YZXX+N35BBG3iTV5uwq+I8vD3sXROAy0GAAViMliPbb/HfpfM3SsmL0czhgaJGvmhwAVgLAgzAAq4o6Jo0fvMNPq4OO7uNqE84I0JyAVgZAgyg5rQc2XaLX3WVz9WQ15qw5xM86uAqLgBbQYAB1MTNMvrtVX5jBh9bh13QXtQrHLcyAbA1BBhANfCU/J5Nv77CXSwirzVhzg4Th8uRXAD2gQADMEupgaxL51dc5cNlZHJzdlh9VowbmgDYFQIM4DEySuhXl/mtt/inI9hfeola454mAI4BAQbwSMfu0y8u8ecK6RvN2CsjPYIw5BOAI0GAATzMwJNtt/jPL/KUkOkt2W29RB7oLQRwPAgwgH8oDeT7dP7Ly3yrAGZpZ1GPUPQWAjguBBgAIYQUaMnXV7jVaXzvMPa3vqIWAYguAEeHAAN3d0dJP03lt93iX2jEnhmK0+IBnAYCDNzX9VK6+Dy/P5uf1EyU9oyHv6e9CwKA6kCAgTu6XEz/e54/nkPfbsku64qh4gGcEgIM3MsVBf0ohf8rj85sza59SuQlsndBAFBTCDBwF1cVdPF5/vA9+mYLdn08ogvA6SHAwPVdL6ULUvgTOXRWa3ZNd5EE0QXgEhBg4MqyVfTTVP6XW/TNFuyaOJEU33cAF4JfaHBN+Vry8Xnu5xv8lBai9GdEOE0DwPUgwMDVqIzki4v8iivcK43ZKyM9AjCAIYCLQoCB6zDyZO01/qNz/H9CmeTh4jAZLkkGcGUIMHARuzL5OX/zzfyZPwaImvojugBcHwIMnF5KAZ1xmtNwZO1Tom61EV0A7sKsACsrKzt48ODNmzdDQkJGjhzp7e0tzNdqtZs3b87Pz+/Tp0+7du2sWSeACffU9MMU/kA2fbctO64JyyK8ANyJWbc5evHFF3/66SetVvvbb7+1atWqsLBQmD9w4MBdu3ZxHDdgwICDBw9as06Af9EYycJzfMxOYwMf5upI8fimSC8At2NWC2zTpk0ymUyY7tKly+7du1999dUTJ07cunUrIyNDLBaHh4d//PHHffv2tWapAA/svM2/c5qPD2XOJXjUkdq7GgCwE7MCrDy9KKVqtdrX15cQcuLEiR49eojFYkJIr169XnvtNZ7nWRZ3rgUrulZCp/3F5WnIxh443AXg7qp3EsfXX3/NMMzQoUMJITk5OcHBwcL8kJAQo9GYn59fu3btyq/KzMx8//33yxdu3779tGnTHvUWarWa53mGwb7JpvR6PSHE09NxbyiiNDIfXxLtuCN6r5VxbAOOZYhSae+anhilVKPRUErtXYjbUalU9i7BHVVrs7MsW952epRqBNi2bds+//zzI0eOeHh4EEKkUqlWqxWe0ul0pEJD7SEhISGDBw9u06aN8DAsLKyKsiilMpkMAWZjQkvaYQNs2y066wwdGkEuJrB+nq4zlKEQXY/9LQWL43kem932qrXZzUkBcwNs9+7d77zzzqFDhyIjI4U5ERERBw4cEKZv3boVEBDg4+Nj8rUymaxjx47x8fHmvBHLsizLIsBsTOj7dcAe4OuldOqfXL6WbOsl6hTiat8KSqnwhbd3IW4Hm90uLL7ZzVrXgQMHpkyZsm/fvsaNG5fPTEhIOH78eEZGBiFk1apVo0aNsmBZADqOzE/m4n/jRkSyfw8Vu156AcATMqsF9tVXX6lUqu7duwsPZ82aNWfOnNDQ0E8++SQ2Ntbb27tOnTo7d+60Zp3gXo7dpxNPcZ1CmAsJ4mAve1cDAA7JrADbu3evyfnjx49/6aWX1Gp1QECARasC96XQk/nJ3L4suiJW1DccrS4AeKQn7Y6USCRIL7CUrTf5VtuNMjFJTRAjvQCgahgLERxCjoZMPsVlKunefqLWgYguAHg8nIcD9rftFt9+pyHaj/z5tBjpBQBmQgsM7Omuik44yRXqyOGB4ma4BwoAVAdaYGA3P93gO+3m/hPGnhyC9AKAakMLDOxAoSdT/+TSS+jhgbj5JADUEFpgYGu/Z9O2O4zhcnJqiBjpBQA1hhYY2I7SQN7+i/srj+7oLWofjOgCgCeCFhjYyNkC2mGXkWXI6aFipBcAPDm0wMDqKCFfXeKXXuS/jRMNqofoAgDLQICBdd1R0hcSOX8JkzJcHIJRDQHActCFCFa0K5Pv+is3uiG7u48I6QUAloUWGFiFjiOz/uYO3qX7+ovaYHANALACBBhY3u0yOvoo19iXOTNU7O1h72oAwEWhCxEs7OcbfLc9xsnN2R96iJBeAGA9aIGBxeh5MuMv7lgOPTpI3MQP3YYAYF1ogYFlZKtoj9+MCj1JehrpBQC2gAADCzhyj8bu4UZFsRt7iORo1QOATWBnA0+EEvJRCv/jdX4nRocCANtCgEHNlRrIC4mcjqN/DxUHSOxdDQC4GXQhQg1dK6HdfjU28yd7+yG9AMAO0AKDmtibRSec5L7owj4Tib+BAMA+EGBQPcJBr003+N/7i1oG4KAXANgNAgyqQW0kLx/jinT09NPoNgQAO0P/D5jrnpr22GsMkJD9/ZFeAGB/CDAwy7lCGreHe74RuypO5IFvDQA4AHQhwuNtuclP/4v/oYeoVxgOegGAo0CAwWMsvsCvv8YnDhJFY4AoAHAkCDB4JCNPpiZxFwrpySG4mTIAOBwEGJhWZiCjjxjlYubwQLEUXxMAcDw4HA8m3FHSbr8a2wUxW3qJkF4A4Jiwc4KHXSyiQw5yH7RnX22Mv28AwHEhwOBfEu/T545yq7uLBtXDKRsA4NAQYPCPnbf5qUn8tl6ibrWRXgDg6BBg8MA36czyq/zhgSLcTxkAnAICDAgh5INz5MBdcnKIuI7U3qUAAJgHAebuKCHT/+KS85mDfWkI0gsAnAcCzK0ZeTLuBFegpXt6UZwuDwDOBedJuy8dR549wul4srMPLlUGAOeDAHNTSgMZfNBYW0o29cDo8gDglLDrckdFOtJzr7FjMPNNrIjFKYcA4JwQYG6nSEf67TcOjmA/7iiydy0AADWHAHMvuRrSY69xaH12fnv86AHAueHYvRvJ0ZDe+4zjmrDTWiK9AMDpIcDcRaaS9t7HzWzNjm+K9AIAV4AAcwuZStprH/deW/ZlDDAPAK4CuzPXl6V60PZCegGAK8EezcVlq+h/9nIzWrET0HMIAK4FOzVXlq2i/9nHTW/FTmyGHzQAuBocA3NZd1W01z5uZiv2dbS9AMAVYdfmmvI0pPd+bjrSCwBcF/ZuLkihJwMOGF9tjONeAODKzOpC1Ol0mzZtSk5Ozs/P37p1a/n8SZMmFRYWCtMJCQmjR4+2So1QHaUG0m+/cXh9dmZrpBcAuDKzAqysrOzo0aMNGjRYuXJlxfm//fbbf//737CwMEJIZGSkVQqE6tAYydCDxm61mffaIb0AwMWZFWDBwcEbN27MyspatGjRQ0/FxsY2bNjQCoVBtel5MvKwsUUA80UXjNILAK7vSf9Of/bZZzt27PjOO+8oFAqLFAQ1w1Ey5ghXW8os74b0AgC3wFBKzVw0KysrIiKi4vK7du1q0aKFSqWaN28ey7J79uwx+cLIyMiCggKx+EFrb9CgQd9+++2j3kWtVkulUobBXaqqgRLy5hlxnpbZFGsQ1+hvEr1eTwjx9PS0cGVQJUqpRqORyWT2LsTtqFQquVxu7yrcTrU2O8uyj/3VeKIAK5ebmxsWFlZSUuLt7V352YEDB86ePTs+Pt6cd1GpVDKZDAFWLXPPcH/l0f39xV41bX0hwOyCUqpWq7EntT2lUmlyZwVWZfHNbpkLmQ0GAyGEZXHigB18fYXfl0WPDa55egEAOCNzA2zXrl05OTmEkG3btvn6+vbr1y89PT0xMbFDhw5KpXLBggUJCQnoCbG9Tdf5ry7zxweL/dF2AgA3Y26AHT16VKvVjh8//o8//ggLC+vXr59cLj99+vSmTZvkcnm/fv3efPNNqxYKle3Lou+e5RMHiepI7V0KAIDNmRtgy5Yte2hO3bp1165da+l6wFxnC+jrJ7jf+4sifXC8EADcEY5aOaVbZTThELc+XtQqEOkFAG4KAeZ8CnVk4AFuUQe2TzjSCwDcFwLMyQiDRb0czb4YjZ8dALg17ASdCU/J84lciwBmdhv84ADA3WE/6Eze/ovjKFkZiwu+AABwR2bnsSaNP5FDTwwRi3DkCwAAAeYsDmTTRef5U0NEcvzEAAAIIQgwp3BFQV85btzdR1xXjsYXAMADOAbm6Aq0ZNgh7ptYUccQpBcAwD8QYA5Ny5GnDxonNmWH1sdPCgDgX7BbdFyUkFePc60Dmemt8GMCAHgYjoE5rv+7wGep6OGB+BkBAJiAnaODOpBNv0vj/xoq9kTrCwDAFASYI0ovoa+d4Pb1E4V42bsUAABHhT/vHU6xjjx9kPu8M9saI80DADwaAsyxcJQ8n2gc25B9Ngo/GgCAqmAv6Vhm/815iZgP2uPnAgDwGDgG5kB23ub3ZtHTQ8XoOgQAeCwEmKNIU9Apf/KHBop8PexdCgCAM0BXlUMoM5ARf3DLurLN/dH6AgAwCwLM/ighLx/jhtZnRkbixwEAYC7sMe3vv+f4Ej1d2AG3qQQAqAYcA7OzA9l07TX+76G4TSUAQPUgwOwpW0VfO8Ht6iMKxogbAADVhC5EuzHyZMxR7t02bIdgNL4AAKoNAWY3757lwmTMG83xIwAAqAl0IdrH3iy6K5OeHYbtDwBQQ9iB2kGWik44ye3pi2uWAQBqDv1Xtmbgyegj3IL2bLsgHPoCAKg5BJitzf6bi/JhxjXBlgcAeCLoQrSp37Ppb1k0GYe+AACeGPaktpOnIeNPcL/0Fvng0BcAwBNDR5aN8JQ8n2h8uxXbKQSHvgAALAABZiOfpPIihkxriQ0OAGAZ6EK0hbMFdMUV/sww3KkSAMBi0CCwOqWBPH+UW/uUqI7U3qUAALgQBJjVTTrFDa3P9AlH6wsAwJLQhWhd22/xl4vp909hOwMAWBh2rFZ0V0XfTOJ/7y/yREMXAMDSsGe1FkrIuBPcnDZsq0B0HgIAWB4CzFq+vMRzlExpgS0MAGAV6EK0iisK+mkqd3oozpsHALAWtA8sT8eRsUe4L7qI6smRXwAA1oIAs7z5KVzrQGZUFLYtAIAVoQvRwv7Koz9dpxcSsGEBAKwLrQRL0nFk3AluVZwoQGLvUgAAXB0CzJLePcvF1mYG1MOhLwAAq0NPl8X8mUt/uYXOQwAAG0ELzDLURvLKcW51nMjf096lAAC4BwSYZcw5w/UOZ/rVRechAICNoL/LAo7dp/uy6Pnh2JgAALbzpC0wrVabk5NjkVKclNpIXj/Jreku8vawdykAAO7ErAA7c+ZMr169/P39n3rqqYrzV65cGRERER8f37FjR7eNsfnJ3H9CmZ6h6DwEALApswIsICBg5syZCxcurDjz3r177777blJSUnp6epcuXRYsWGCVAh3buUK69Rb9v04iexcCAOB2zAqwRo0a9e/fPygoqOLMHTt2xMfHN2zYkBAyfvz4LVu2WKVAB2bkyWvHuWVdWZx5CABgezU/7+DOnTtRUVHCdGRkpEKhKC0t9fX1rbykUqk8evRobm6u8DA6OrpNmzaPWi3P8zzPM4wT9Mh9fJ429iNP1yM8z9u7liclfAQX+CDOhVIqfOHtXYjbwWa3i2ptdoZhHhsENQ8wrVYrkTwYMZp4lNUAAB+uSURBVMnT05MQotFoTAZYUVHRkSNHLl68KDzs0qVLkyZNqlgty7KOH2AZZcyqNPGp/katltq7FgvQ6/UEAWZzlFKtVisSoQva1rRarViM04ZtrVqbnWEYqVRa9TI1/xHWqVMnIyNDmM7LyxOLxSEhISaXjIiImD17dnx8vDmrpZTKZDIHDzCekilHjEs6sQ0CXeTUQ+FbJfwhAjZDKSWEyGQyexfidniex2a3PYtv9pqfRh8fH3/06FGj0UgI+eOPP7p3786y7nJZ9MqrvI8Heb6Ru3xeAAAHZFYLLDs7e+HChdevX8/IyJgwYcJTTz313HPPxcbGRkdHP/300126dFmxYsVPP/1k7VodxF0V/fg8l/Q0+h8AAOzJrL2wt7d37969e/fuLTwUzjwkhOzdu3fbtm25ubmHDx9u2bKltWp0MG8m8TNaiep7O3QnJwCAyzMrwPz9/Z955pnK8z09PZ977jlLl+TQ9mfRjFL6839w1B0AwM7QD1YNaiOZmsRt7CHywMEvAAB7w564GuYnc/3qMl1rofMQAMD+0AIz18UiuuUmTR2BLQYA4BDQAjMLT8nEU9ynnTFqFACAo0CAmWV1Gu/rQUZFYXMBADgKdIg9Xr6WLDzHHx+MMw8BABwImhSPN/cM93pTpqEvzt0AAHAgaIE9xtkCevgevYxzNwAAHAxaYFXhKZl8ilvWhZUhvwAAHAwCrCqr0/gACXm6PrYSAIDDQcvikYp0ZOE5/uggnLsBAOCI0LZ4pDlnuNeaMI39cO4GAIAjQgvMtOQCeuguvYRzNwAAHBVaYCZQQib/yX3emZUjvwAAHBUCzISNGbxcTIY3wMYBAHBcaGI8TGkg7yfzv/XFuRsAAA4NjYyHLb7ADYlgWgXi3A0AAIeGFti/3FHS9dfohQRsFgAAR4c99b9MP83PbsMGe9m7DgCwrePHj3/99df2rsJlTZ48OT4+3uKrRYD942QOvVJMN/fE0S8At5OSkiIWi1999VV7F+KC1q9fn5ycjACzIp6SaX9xn3cReeCwIIBbioyM7N27t72rcEHHjh2z0pqxt37g+3S+jpT0r4tzNwAAnANaYIQQUmYgH53j/xiIzkMAAKeBFhghhHySyg2rzzTBsIcAAM4DLTByV0XXpPEXEjzsXQgAAFQDWmDkvWT+rZai2lJ71wEAANXh7gGWWkSP3KNvtXD37QAA4HTcfcc98zS3qAMrQ08qAICzcesA259FczXkuYZuvREAAJyU+zY9OEpmn+E+7yxice4hAIATct/Gx/prfISc9A5HfAEAOCU3bYFpjOSjc/y+frhyGQDAWblpC+yry3yvMKZFAJpfAOAuCgsLjUZjzV6bm5tr2WIswh0DTKEnX17i3m/njp8dANzT1atX582bx7I13O+tXbv2wIEDli3pybljF+KSC9zYRmykD5pfAOAW7t69O2vWrC1btpQH2IEDB44ePWrOa3v37t27d+85c+a88sor/v7+nTt3tmal1eN2AXZfTdZd41MxcBQAuAee559//vnPPvtMJpOVz5w5c2ZwcPCECRMaNmzo5+fHMMyLL76YlJS0ZMmSQYMGSaXSkpKSlJSUGTNm1KtXr3fv3gzDfP7553369Dl8+LC/v78dP05FbhdgH6Zwk5uLamHgKABwDxs2bJDJZO3bty+fc+XKlZCQkAMHDojFDyKAUnrr1i0PD4833njD29tbmNmuXbuUlJSmTZsKDwMDAwcNGrRw4cLPPvvMxh/hUdzrOFBGCd1zh05r6V6fGgDcFs/z//3vf995552KM7du3frFF1+UpxchJD09PScnJyYmpjy9BF5eXuUBRgiZPHny999/X1BQYO2yzeReu/L3k/k5bVgfdB8CgHs4fPiwUqns0aNHxZl37txp3bp1xTmJiYmEkIcWI4Qolcrw8PDyh7Vr1+7atesPP/xgnWKrzY0C7EIRPZNPxzd1o48MAM5OpVLl5eWVPywrK6tWA2j37t1xcXEM8885ayqVasyYMQ8t9qgAGzx48ENzunXr9uuvv5pfgFW50TGwuWe4BTGsBNcuA4CTSE5O3rhx4927d2vVqvXZZ58tWrTIy8vL09Pz4MGD69evr1u37mPXkJiYOG7cuIpz5HJ5nz59Ks6hlCYmJorF4m7duj308iFDhjw0JzY2duHChVqt1svLq0afyZLcJcD+zKU3S8lYjNsLAM5j2bJl69at+/333wcPHlxQULB48eKoqChCSHZ29iuvvHLo0KGqX24wGK5duxYdHV31YlevXs3Nze3atauPj89jS2rYsKHBYLh+/XrLli3N/yBW4i479PfOcgs7sCJc+gUATuL+/fvBwcEikSgrK4sQMnXqVCG9CCHR0dF//PHH3bt3q17DnTt3DAaDn59f1Ys9qv/QJOEc+lu3bpmzsLW5RYCdyKEFOjKigVt8WABwDQqFQuj9O3XqVFhYWFxcXPlTwmGwzMzMqtdQVlZGCAkMDKx6MSHA4uPjzanK19dXJBKVlpaas7C1uUUX4ntnuUUxLG6bAgBOpFmzZsJEYmLiQ82jlJQUQkidOnWqXoPBYCCESCSSKpahlB4/ftzkATCTGIbx9PTU6XTmLGxtrt8oOZBNVUYypL7rf1IAcD0ZGRnZ2dkVA0yv1588eTIsLKx+/fpVv1YulxNCFApFFctcvnw5Nze3Y8eO5hwAI4TodDqNRvPQ5WL24votsPkp3KIOOPgFANUz4Hfj6Xxqm/eqI2UODBDVk5vYUVU+QHX06FGFQjF58mSR6DEnVYeEhBBCiouLq1imWgfACCFFRUWEkFq1apm5vFW5eID9msmLGNK/LvILAKonT0uKbdVPRinVc6afSkxMDA4Orngm4fr16yMiImbNmvXY1YaEhAQEBFR93Vi1DoARQvLz8wkhjz2z0TZcOcAoIfNT+M8648ovAKi25GEOsXtMTExUqVTZ2dnCVV+//fbbgQMHfv/9d19fX3Ne3qFDh+Tk5NGjR5t8Vq1WCwHWqVMnM+s5c+ZMeHh4xeE57MghfkJWsv0W7+NB/hOG5hcAOKX09PR79+59+umnixYt6t+/f2pq6okTJ44dO9aqVSsz19C3b9/t27c/NHPnzp0bN24sKyvLyMjged7Hx6d79+6hoaHBwcHr1q2r+grlEydO9O3bt4afx9JcNsB4Sj46x6/ohuYXADgroXk0ZMiQBg0anDlz5oUXXvjggw8qL8bz/Keffurv789xHMMwEydOLB87avTo0R988IFCoah4D5Thw4cPHz68BvXwPJ+YmLhu3bqafBgreKJz806cOPHH/9y4ccNSNVnEztt8iBfpXgfNLwBwVomJiWFhYU2aNJFIJHFxcZGRkSYX++ijj6RS6YQJE9544w29Xr9o0aLyp+rWrTtkyJDVq1dbpJ7du3f7+vqaf8aHtT1RC2zs2LGtWrUSzqdMSEho2LChhap6UpSQxRdw9AsAnJgwRGH37t2rXozjuOXLl1+8eFF4OHz48I4dO86bN6/85stC9+O0adM8PT2fsKRPP/106dKlFYcGtq8n7UJcvny54+RWud2ZvJeIxIc6ylYGAKiW69ev79+/PycnRyQS/fnnnx07dvTwMH0jqJSUlKKiouDgYOFhQEBAXl7ehQsX2rVrJ8yJjo6eOnXqJ5988t577z1JSVu3bm3durXjHAAjT34h8+bNm7/99tvy8HcQH5/nP4xB8wsAnFVycrJarV61alW7du1OnTpVxcgX2dnZYrG4vHUll8tZln1omMRp06YVFhYePHiwxvWkp6fv2rVr+fLlNV6DNTxRCywuLk6r1aalpb333nsLFiyYMmWKycWys7M/+eST8nugtW7d+vXXX3/UOtVqNSHkSZqo+++yLGW7+uvV6hqvw+3o9XpCiNFotHch7oVSqlarHadDxn2o1eryHjaB8CvgOEaNGmXmkiUlJRXPG2RZ1svLq/LFy5999tnnn3/eo0ePmnUk7t+/f/Xq1Y9qBT6WXq9Xq9WVN3sVhA9S9TJPFGCbN28WJkaOHDlgwIBJkyaZvDLc19e3Y8eO5eN61a9fv4qxuYxGo0QieZJf6SWX+Y9iWAlu/FUdwgZ/8i5yqBZKKcdxVQ9VB9ZgMBge2uxisbOeku3t7a3RaCilwm8xz/MajUYYRKoilmXfeeedGr/LtGnTnqRIsVgskUgqb/YnZJmfWdu2bZVKZXFxcXk/bEW+vr49e/Y080pvkUgkEolqHGD7syjL0v71kF7VI/zl8diRacCyKKXCF97ehbidypvd/JaBowkODuY4Tq1WC6GlVCoppUFBQfau619YlhX9jyVXW+NXKhSKkpISYXrNmjVRUVEm08vGPr7AfdAOuwMAcBcxMTFeXl7l9zcpKSmRSCQxMTH2rco2at4Cu3HjRt++fcPDw9VqtVgs/umnnyxYVs0cvEvVRjKgHo4oAIC78PHxGT58eFJSUkJCAiHk1KlTCQkJDjJavLXVPMBiYmLu37+flZUll8sfe1sa2/jvOW5+O9z2CwDcy7Jly2bOnCkWizmO27t3r6OdK2g9T9Tt6+np2bBhQwdJr7/yaIGWDI5w1o5sAICaCQkJWb9+fUxMTKdOnTZu3GjyAFhZWdnUqVMteLLlihUrkpKSLLW2mnHWE28qW3iOm9cOt10GADdVxQjxOp1u3LhxixcvtuCZxhMnTnz11Vflcnnr1q0ttc7qcpH2yoUimqYgz0a6yMcBALCg6dOnDx8+PCoqyoLrFIlEn3/++YQJE8rP5rM9F9njLz7Pz2zNil3k0wAAWMyJEydOnDhh/pXR5gsKCkpISJg3b57F12wmV9jl3yyjJ3PpS9Gu8FkAACzrvffemzFjhpUGfBk/fvzmzZszMzOtsfLHcoWd/v9d4N9qwUpd53AeAIBlXLp0KSUlZcyYMVZav5+f37Bhw9asWWOl9VfN6QMsR0N+zeTHN3X6DwIAYHFbtmzp3LmzVUeJi4uL27Ztm/XWXwWnb7Z8msqNb8r6YQw/AHA5eXl5S5YsuXv37tChQ8eMGbNr1y7hzHUPD48FCxaYM37jkSNHHnUDlPPnz3/88cepqakSiaRHjx5vvfXWQ2d5lJaWrlix4vjx4xzHBQQETJ48+amnnqq8ntjY2GvXrt2+fbtBgwY1+ZBPwLkbLkU6suk6P7UFxo4CABe0cOHC999/f+zYsS+99NKcOXOMRuOSJUuWLFmSnp7+1ltvPfbllNLz58+3atWq8lP79+9/6aWXhg8f/v333z///PM//vhjixYtVq5cWb7A6dOn4+LiQkJCduzYcfDgwfXr1x87dmzTpk2VVxUdHS2RSFJTU5/kk9aMcwfY8sv86IZsyGNG3AcAcD5KpVKlUvn7+5eUlBgMhiZNmowcOVJ4KjY2dvXq1ZXvmfKQu3fvqtXqwMDAh+aXlpZ++eWXx48fHzNmTGxs7MyZM8+dO1evXr3JkycvXbqUEJKcnDx69OgtW7aMGzdOKpUSQqRS6fvvv5+cnJyXl/fQ2hiGCQgIuH79umU+dnU4cYCpjWRVGjejlRN/BACAR7l8+fLo0aMJIX///bePj88LL7xQ/pRGozEajRkZGVWvQUi4ygG2Y8eOd99918/Pr3xORETE3r17/f39Z8+e/eOPP44aNWrjxo3l98Aq9+abb5oc9tbf31+hUFTnw1mGE+/9113je4ex9eQYewMAXFDnzp2Fw1eJiYndu3eveMTr0qVLhJDHjtir0WhMLnbx4sXu3bs/NDM6OvrHH38khLzwwguDBg2Ki4urvMIGDRpkZ2dXnu/j46NSqR77iSzOWQOMo+TLS/x0NL8AwKXl5+dfvny54v0UKaWnTp2Sy+WRkZFVv1bo/VMqlQ/Nl8vlJu9/NmjQoFmzZhFCjh07JoRfZSbvSFlaWiqTyaouxhqc9SzEHbf5KB/SNgjNLwCwirLDW/VZj+mjq0gk9/Mb+jrjaWL/rrtxUXlyD6H0Ua9lZT7+Q19nJNLKTyUmJlJKe/bsWT4nJSUlMzPz5ZdfFvKpCv7+/uR/HYkVeXl56XQ6k1F05cqVunXrXrhwYeLEiRs2bHjoWZ7n1Wp15VcVFxcL72Vjzhpgn1/kF8bg5EMAsJayw9t4dVk1XsAw8rjBHqENKj+jOXdMc+541a+Wd+3vWa9x5fmJiYk+Pj7t2rUrn7N161aZTGbOAE7h4eFSqbSoqOih+fHx8du3bx87duxD87/66iuNRnP+/PnY2Ngffvihbdu2b7/9dsUFNmzYULlrkVJaXFzcqFGjx9ZjcU4ZYMdzqNpIeoWj+QUA1lJrxnKu8L75y7MyX5PpRQjxe/p1aes4Qh7ZAmOk3p71ok0+lZiYyPO8Xq8XjoFdv359xYoVX331lTmBwbJsy5YtL126NHz48IrzY2NjN23aNHDgwIrNphUrVmzevHn//v3+/v6//fZbz549Z8yYodVqZ8+eLfQ3Hjt2TFjgoXdJT083GAxt2rR5bD0W55QB9mkqN6s1bpwCAFYkDqojDrLMzQ4ZT4mkcdsavDA3N/fq1avPP//8/PnzP/jggwsXLkydOnXFihUvvfSSmWvo1avXqVOnKs9/7733XnvttQEDBjRu3PjatWs//vhjdHT0gQMHfH19CSGNGjU6e/bsxIkT33333XXr1sXFxeXm5t6/f//XX38ViR7u+jpx4kSjRo1sfxUzccYASy+hqUVkR2+cvgEALk44APbGG2/4+Ph88cUX4eHhhw4dCg4OrrzksWPHrl69yvN8165dK/Y3PvPMMytXrjQajQ8N2xEWFrZ58+Y9e/YcPnw4MDBw9erVjRv/qwOzdu3aO3fuvHz58qFDhxQKxZAhQ4YMGWJy7I/jx48/++yzFvrE1eN8AfbJBX5aS9YD+QUAri4xMdHX17dDhw5isbhFixaPWuyXX345evToihUrKKVTpkzp27fv0KFDhafat2/fvHnzbdu2VR7P19PTc8SIESNGjKiigBYtWlTxvoSQoqKiPXv2pKSkmP2ZLMnJciBXQ37L4l9t7GRlAwDUwNGjR7t27frYMQ/nzp07depUQgjDMJMnT54zZ07FZxcuXCiMr2ENK1asGDNmjGVvlWk+J0uCry5zrzTG0L0A4PouXryYnp7esmXLqhdLT0+/fv16/fr1hYdhYWFpaWk3btwoX6B3796tW7fesWOHxSvMz8/fsWPH4sWLLb5mMzlTgKmNZG06P7W5M9UMAFADCxYsmD179jPPPJOWljZgwIAqBmq6du0ay7JeXg/GhPXx8SGEPDQy4ddff/3DDz/cvn3bghXyPD9t2rTvvvvOLleACZzpGNgPGXyvcDYcY0cBgKtbsGCBmUsqFAqZTFZ+w2WRSCSVSgsLCysuI5fL161bN2fOnOXLl1vq3mDLly8fN25cTEyMRdZWM04TYJSQry7z6+Nx8TIAwD/EYrFOpyt/SCnV6/WVT3YPCAhYtWqVBd/XnPu5WJvTdMf9nkWDvEinEDS/AAD+ERwcbDAYyjNMrVZzHBcUFGTfqmzDaQLsy0vctBZOUy0AgG00b96cYZjS0lLhYVlZGcMwVZ/77jKcIxKuKOi1UjK0vnNUCwBgM+Hh4bGxsenp6cLDtLS0rl27hoaG2rcq23COSFh2iZ/SnBU7R7EAADa1bNmyL7/8sri4uKio6Isvvli5cqW9K7IRJziJo0hHdmfyac942LsQAABH1L59+9WrVx88eJBSunbtWjc5AEacIsC+vcqPimL9cfEyAMAjBAYGjho1yt5V2JqjB5iBJ6vS+IMDcPY8AAD8i6MfVtp6k28bxDTxw9nzAADwL44eYMuv8G/h7HkAAKjEobMhpYCW6UnPMDS/AADgYQ4dYMsu81Na4M7LAABgguMGWIGW7M/in2vkuBUCAIAdOW48rE7jxzZifXH1FwAAmOKgAcZR8l06P6mZg5YHAAB256AJsTuTb+xHcPY8AAA8ioMG2Ior/GTceRkAAB7NEUPiqoLeLCMD6zlibQAA4CAcMSRWXKVvNGNF6D4EAIBHc7ixEJVGZvst/vJInH0IALbj7e09d+7cb775xt6FuCCNRrNs2TJrrNnhAmzTLXZQPTZIYu86AMCdjBs3buTIkZRSexfighiG8ff3t8aaHS7AxAyd0Qq9hwBga1bayYL1OFyAvdaIl8kQYAAA8BiOeBIHAADAYyHAAADAKTlcgCUlJRUXF9u7CreTkZFx7do1e1fhdoqLi5OSkuxdhduhlP7+++/2rsIdHTx40Gg0WnCFDhdgX3311ZkzZ+xdhdvZsWPH9u3b7V2F20lOTv7yyy/tXYXbKSsrmzJlir2rcEdz5869d++eBVfocAEGAABgDgQYAAA4JQQYAAA4JcYGV543btw4NzdXJBKZs7BKpZJIJGKxw12g5tp0Oh0hRCLBCCg2ZTQadTqdXC63dyHuhVJaVlbm6+tr70LcTmlpqY+PD8OYdaWvt7f3pUuXqv4x2SLADAaDUqm09rsAAIDLkEgkMpms6mVsEWAAAAAWh2NgAADglBBgAADglBBgAADglBBgAADglBwowAwGw/Tp0xs2bNixY8eDBw/auxxXdvfu3fHjx7ds2bJp06aTJk0qH3xy/vz5ff7n3XfftW+RLumll14q38KrV68WZur1+jfffDMqKqpTp05Hjhyxb4Uu6ZVXXulTwZYtWwghp06dqjgTQ7BaRH5+/oIFC4YNGzZ27NiK8y9dutSzZ8/IyMixY8eWb+ri4uLnnnsuMjKyZ8+eFy9erMHbOdDlVsuWLTt79uzp06dTUlJGjx6dkZERFBRk76JcU15eXvPmzWfPnu3h4TFlypSpU6f++OOPhJDU1NRevXr16dOHEIKrZKzhzz///Pjjj6OiogghtWvXFmYuXbr08uXLZ86cOX369DPPPHPjxg3cWdGy3nnnHa1WSwhRqVS9e/deunQpISQvL6/ire69vb3tWaKrKCkpMRgMMTExa9asKZ/J83xCQsLbb7/93HPPTZ8+/e23316/fj0hZPr06Z6enufPn//5558TEhLS09NZtpptKuowmjZtum/fPmF68ODBy5cvt289bmL//v2NGzcWpocNG/bzzz/btx7X1qhRo0uXLj00Myoq6o8//hCm+/Xrt2rVKpvX5S7WrVsXExMjTO/YsWPgwIH2rcdVnTp1ql69euUPExMT69evL0xnZWV5eXmVlZUplUovL6/MzExhflRU1JEjR6r7Ro7Shcjz/I0bN1q2bCk8bNGiRUZGhn1LchN79+7t1q1b+cNp06aFhob279//woULdqzKhfXr169evXqjR4/Ozs4mhBgMhtu3b+Obbxtr16597bXXyh+ePHmyVq1abdq0+eabb+xYlcu7du1a+Te8bt26Eonkzp07WVlZnp6eERERwvwWLVrU4I5OjhJgarXaYDCUX3ft7e2NLmkb+OWXX3bv3v1///d/wsN58+ZdunQpPT09Pj6+f//+paWl9i3P9WzYsCEtLS0lJcXb23vEiBGEkLKyMp7n8c23gYyMjLNnz44ePVp42KFDhzNnzty5c2flypUfffTRL7/8Yt/yXFhJSUnFMTV8fHwUCoXJmdVds6MEmLe3t1QqLSkpER4qFIpatWrZtySXt3fv3rfffvvAgQPlB2M6dOgQFBTk6+s7d+5cmUx29uxZ+1boerp16+bt7R0SEiIc8c3NzfX39xeLxfjm28DatWsTEhICAgKEh/Xq1WvcuLGXl1dsbOykSZP27Nlj3/JcWEhISMVwKi4urlWrVkhISPnXvnxmddfsKAFGCGnTps3p06eF6dOnT7dt29a+9bi2Q4cOTZw4cd++fc2aNav8rF6vVyqVjx2IDGqsuLiYUiqVSlmWbd26Nb751mY0Gn/44YeK/YcVFRYWYkhl62nbtm1KSopwL+bLly9LJJKIiIi6devKZLLU1FRCCMdxZ8+ercE334HOQnzrrbfmzZsXEBCQkpJy+/ZtoYMFrCE1NXXo0KEvv/xyUlJSUlKSp6fnyy+/rNVqZ82a1bNnT5FI9N1330VERMTExNi7UpeSnp6+adOmTp06aTSaTz75ZOzYscKpnm+99dbcuXO9vb1Pnz6dk5MzbNgwe1fqgvbv3y+RSOLj48vnLFu2zMfHJzw8/OzZs99//31iYqL9qnMder1+/fr1N27cUCqVq1evrlev3oABA9q0adOyZctJkyaNGTNmwYIFEydO9PT0JIRMmjTpjTfe+PDDD7du3dqsWbN27dpV9+0cKMCEvukNGzYEBAQcO3ZMKpXauyKXxbLsm2++SQi5efMm+d9dVDw8PEJDQ7dv384wTPfu3SdNmuTh4WHnQl2LcFnIpk2bvLy8JkyY8PLLLwvzX3zxRZZl169fHxQUdOzYMeF3GyzLaDR+8cUXFc/SbtKkyY4dOxQKRd26df/666/yswzgSfA8f/PmTYZhxo8ff/PmzfIbY+3YsWPJkiXffvvtiBEjJk+eLMycP39+SEjIqlWrIiMjd+7cWYO3w2j0AADglBzoGBgAAID5EGAAAOCUEGAAAOCUEGAAAOCUEGAAAOCUEGAAAOCUHOg6MAB3oFKphFt7mIRbCAGYD9eBAdjUuHHjvv/++0c9q1KpMIIXgJkQYAA2dfPmzdzcXGF62bJl27ZtO3nyZPmznTt3rvY9/QDcFboQAWwqKipKuCMzIUS4t33Xrl3tWhGAs8LfegAA4JQQYAAA4JQQYAAA4JQQYAAA4JQQYAAA4JQQYAAA4JQQYAAA4JQQYAAA4JRwITOA3bzyyitxcXH2rgLAWWEoKQAAcEroQgQAAKeEAAMAAKeEAAMAAKeEAAMAAKeEAAMAAKeEAAMAAKf0/1QjRvo0nrV3AAAAAElFTkSuQmCC\" />"
            ]
          }
        }
      ],
      "source": [
        "g = 0.01\n",
        "r = 0.05\n",
        "y_0 = 1.0\n",
        "T = 100\n",
        "# broadcast over 0:T\n",
        "p_finite = finite_payoffs.(0:T, g, r, y_0)\n",
        "p_infinite = infinite_payoffs(g, r, y_0)\n",
        "plot(0:T, p_finite,xlabel = \"T\",\n",
        "     label= L\"p_0(T)\", size = (600,400))\n",
        "hline!([p_infinite], linestyle = :dash,\n",
        "       label = L\"p_0(\\infty)\")"
      ],
      "id": "dd9ba1cc"
    },
    {
      "cell_type": "markdown",
      "metadata": {},
      "source": [
        "## Discounting vs. Growth\n",
        "\n",
        "-   For $T = \\infty$, we assumed that $G R^{-1} < 1$, or approximately\n",
        "    $g < r$"
      ],
      "id": "471d7d50-cd9d-4b86-b50e-b87d9cccb956"
    },
    {
      "cell_type": "code",
      "execution_count": 11,
      "metadata": {
        "output-location": "slide"
      },
      "outputs": [
        {
          "output_type": "display_data",
          "metadata": {},
          "data": {
            "text/html": [
              "<img src=\"data:image/png;base64,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\" />"
            ]
          }
        }
      ],
      "source": [
        "T = 10\n",
        "y_0 = 1.0\n",
        "plot(title = L\"Present Value $p_0(T)$\", legend = :topleft, xlabel = \"T\")\n",
        "plot!(finite_payoffs.(0:T, 0.4, 0.9, y_0),\n",
        "      label = L\"r=0.9 \\gg 0.4 = g\")\n",
        "plot!(finite_payoffs.(0:T, 0.4, 0.5, y_0), label = L\"r=0.5 > 0.4 = g\")\n",
        "plot!(finite_payoffs.(0:T, 0.4, 0.4001, y_0),\n",
        "      label = L\"r=0.4001 \\approx 0.4 = g\")\n",
        "plot!(finite_payoffs.(0:T, 0.5, 0.4, y_0), label = L\"r=0.4 < 0.5 = g\")"
      ],
      "id": "01472a18"
    },
    {
      "cell_type": "markdown",
      "metadata": {},
      "source": [
        "# Asset Pricing and Fixed Points\n",
        "\n",
        "## Rewriting our Problem\n",
        "\n",
        "-   Lets write a version of the model for arbitrary $y_t$ and relabel\n",
        "    $\\beta \\equiv 1/R$\n",
        "\n",
        "-   The asset price, $p_t$ starting at any $t$\n",
        "\n",
        "    $$\n",
        "    \\begin{aligned}\n",
        "    p_t &= \\sum_{j = 0}^{\\infty}\\beta^j y_{t+j}\\\\\n",
        "    p_t &= y_t + \\beta y_{t+1} + \\beta^2 y_{t+2} + \\beta^3 y_{t+3} + \\cdots\\\\\n",
        "    &= y_t + \\beta \\left(y_{t+1} + \\beta y_{t+2} + \\beta^2 y_{t+2} \\cdots\\right)\\\\\n",
        "    &= y_t + \\beta \\sum_{j=0}^{\\infty} y_{t+j+1}\\\\\n",
        "    &= y_t + \\beta p_{t+1}\n",
        "    \\end{aligned}\n",
        "    $$\n",
        "\n",
        "## Recursive Formulation\n",
        "\n",
        "-   In the simple case of $y_t = \\bar{y}$, recursive equation is\n",
        "\n",
        "    $$\n",
        "    p_t = \\bar{y} + \\beta p_{t+1}\n",
        "    $$\n",
        "\n",
        "    -   We could also check that $p_t = \\frac{\\bar{y}}{1 - \\beta}$\n",
        "        fulfills this equation\n",
        "    -   There are be other $p_t$ which fulfill it, but we won’t explore\n",
        "        that here\n",
        "\n",
        "-   In cases where the price is time-invariant, write this as a fixed\n",
        "    point\n",
        "\n",
        "$$\n",
        "p = \\bar{y} + \\beta p \\equiv f(p)\n",
        "$$\n",
        "\n",
        "## Recursive Interpretation\n",
        "\n",
        "$$\n",
        "p_t = y_t + \\beta p_{t+1}\n",
        "$$\n",
        "\n",
        "-   The price $p_t$ is the sum of\n",
        "    -   The payoffs you get that period\n",
        "    -   The discounted price of how much you can sell it next period\n",
        "-   The $p_{t+1}$ is the **forecast** of the price tomorrow\n",
        "    -   Here we are assuming the forecasts are perfect, as\n",
        "        $\\{y_t\\}_{t=0}^{\\infty}$ is known\n",
        "-   More generally, want expected price tomorrow using some\n",
        "    probabilities\n",
        "\n",
        "## Solving Numerically"
      ],
      "id": "2808978b-efd9-455a-9821-dc8de18a1c76"
    },
    {
      "cell_type": "code",
      "execution_count": 12,
      "metadata": {},
      "outputs": [
        {
          "output_type": "stream",
          "name": "stdout",
          "text": [
            "(y_bar / (1 - beta), sol.zero) = (10.000000000000002, [9.999999999999972])"
          ]
        }
      ],
      "source": [
        "y_bar = 1.0\n",
        "beta = 0.9\n",
        "iv = [0.8]\n",
        "f(p) = y_bar .+ beta * p\n",
        "sol = fixedpoint(f, iv) # uses Anderson Acceleration\n",
        "@show y_bar/(1 - beta), sol.zero;"
      ],
      "id": "4a7326ab"
    },
    {
      "cell_type": "markdown",
      "metadata": {},
      "source": [
        "## A More Complicated Example\n",
        "\n",
        "-   Instead $\\bar{y}$, asset may pay $y_L$ or $y_H$\n",
        "    -   You don’t know the payoff $y_{t+1}$ until $t+1$ occurs\n",
        "    -   You need to assign some probabilities of each occurring. e.g.,\n",
        "        equal\n",
        "-   As with the previous example, lets assume you hold onto the asset\n",
        "    only a single period, then sell it\n",
        "    -   Naturally, the value of the asset to both you and others depends\n",
        "        on $y_{t+1}$\n",
        "    -   We will see much more in [future\n",
        "        lectures](https://julia.quantecon.org/multi_agent_models/markov_asset.html)\n",
        "-   Hint: in future lectures will use mathematical expectations\n",
        "\n",
        "$$\n",
        "p_t = y_t + \\beta \\mathbb{E}\\left[p_{t+1}\\right]\n",
        "$$\n",
        "\n",
        "## Recursive Formulation\n",
        "\n",
        "-   Assume two prices: $p_L$ and $p_H$ for the asset depending on the\n",
        "    $y_t$ $$\n",
        "    \\begin{aligned}\n",
        "    p_L &= y_L + \\beta \\left[ 0.5 p_L + 0.5 p_H \\right]\\\\\n",
        "    p_H &= y_H + \\beta \\left[ 0.5 p_L + 0.5 p_H \\right]\n",
        "    \\end{aligned}\n",
        "    $$\n",
        "\n",
        "-   Stack $p \\equiv \\begin{bmatrix} p_L & p_H \\end{bmatrix}^{\\top}$ and\n",
        "    $y \\equiv \\begin{bmatrix} y_L & y_H \\end{bmatrix}^{\\top}$\n",
        "\n",
        "    $$\n",
        "    p = y + \\beta \\begin{bmatrix} 0.5 & 0.5 \\\\ 0.5 & 0.5 \\end{bmatrix} p\\equiv f(p)\n",
        "    $$\n",
        "\n",
        "    -   We will see later how to write as a mathematical expectation\n",
        "\n",
        "-   We could solve this as a linear equation, but lets use a fixed point\n",
        "\n",
        "## Solving Numerically with a Fixed Point"
      ],
      "id": "e5312786-6908-433e-a598-664cbe38bfdd"
    },
    {
      "cell_type": "code",
      "execution_count": 13,
      "metadata": {},
      "outputs": [
        {
          "output_type": "stream",
          "name": "stdout",
          "text": [
            "(p_L, p_H, sol.iterations) = (9.500000000000032, 10.500000000000032, 4)\n",
            "(I - beta * A) \\ y = [9.499999999999996, 10.499999999999996]"
          ]
        }
      ],
      "source": [
        "y = [0.5, 1.5] #y_L, y_H\n",
        "beta = 0.9\n",
        "iv = [0.8, 0.8]\n",
        "A = [0.5 0.5; 0.5 0.5]\n",
        "sol = fixedpoint(p -> y .+ beta * A * p, iv) # f(p) := y + beta A p\n",
        "p_L, p_H = sol.zero # can unpack a vector\n",
        "@show p_L, p_H, sol.iterations\n",
        "# p = y + beta A p =>  (I - beta A) p = y => p = (I - beta A)^{-1} y\n",
        "@show (I - beta * A) \\ y; # or $inv(I - beta * A) * y"
      ],
      "id": "009c878b"
    },
    {
      "cell_type": "markdown",
      "metadata": {},
      "source": [
        "# Keynesian Multipliers\n",
        "\n",
        "## Model without Prices\n",
        "\n",
        "-   $c$: **consumption**, $i$: **investment**, $g$: **government\n",
        "    expenditures**, $y$ **national income**\n",
        "-   Prices don’t adjust/exit to clear markets\n",
        "    -   **Excess supply** of labor and capital (unemployment and unused\n",
        "        capital)\n",
        "    -   Prices and interest rates fail to adjust to make aggregate\n",
        "        **supply equal demand** (e.g., prices and interest rates are\n",
        "        frozen)\n",
        "    -   National income entirely determined by aggregate demand,\n",
        "        $\\uparrow c\\implies \\uparrow y$\n",
        "\n",
        "## Simple Model\n",
        "\n",
        "-   **Assume**: consume a fixed fraction $0 < b < 1$ of the national\n",
        "    income $y_t$\n",
        "    -   $b$ is the **marginal propensity to consume (MPC)**\n",
        "    -   $1-b$ is the **marginal propensity to save**\n",
        "    -   Modern macro would have $b$ adjust to reflect prices, consumer\n",
        "        preferences, etc. and add in prices/production functions\n",
        "-   Leads to three equations in this basic model\n",
        "    -   An accounting identity for the national income, the investment\n",
        "        choice, and the consumer choice above\n",
        "\n",
        "## Equations\n",
        "\n",
        "-   **National income** is an accounting identity: the sum of\n",
        "    consumption, investment, and government expenditures is the national\n",
        "    income\n",
        "\n",
        "    $$\n",
        "    y_t = c_t + i_t + g_t\n",
        "    $$\n",
        "\n",
        "-   **Investment** is the sum of private investment and government\n",
        "    investment. Assume it is fixed here at $i$ and $g$\n",
        "\n",
        "-   **Consumption** $c_t = b y_{t-1}$, i.e. lag on last periods\n",
        "    income/output\n",
        "\n",
        "## Dynamics of Income and Consumption\n",
        "\n",
        "-   Substituting the consumption equation into the national income\n",
        "    equation\n",
        "\n",
        "    $$\n",
        "    \\begin{aligned}\n",
        "    y_t &= c_t + i + g\\\\\n",
        "    y_t &= b y_{t-1} + i + g\\\\\n",
        "    y_t &= b (b y_{t-2} + i + g) + i + g\\\\\n",
        "    y_t &= b^2 y_{t-2} + b (i + g) + (i + g)\n",
        "    \\end{aligned}\n",
        "    $$\n",
        "\n",
        "-   Iterative backwards to a $y_0$,\n",
        "\n",
        "$$\n",
        "y_t = \\sum_{j=0}^{t-1} b^j (i + g) + b^t y_0 = \\frac{1 - b^{t}}{1 - b} (i + g) + b^t y_0\n",
        "$$\n",
        "\n",
        "## Keynesian Multiplier\n",
        "\n",
        "-   Take limit as $t \\to \\infty$ to get\n",
        "\n",
        "    $$\n",
        "    \\lim_{t\\to\\infty}y_t = \\frac{1}{1 - b} (i + g)\n",
        "    $$\n",
        "\n",
        "-   Define the **Keynesian multiplier** is $1/(1-b)$\n",
        "\n",
        "    -   More consumption delivers higher income, which delivers more\n",
        "        consumption, compounding…\n",
        "    -   $i \\to i + \\Delta$ implies $y \\to y + \\Delta/(1-b)$. Same with\n",
        "        $g$\n",
        "\n",
        "-   Is this correct (or useful) of a model?\n",
        "\n",
        "    -   Probably not…gives intuition for more believable models\n",
        "    -   Lets us practice difference equations\n",
        "\n",
        "## Iterating the Difference Equations\n",
        "\n",
        "$$\n",
        "y_t = b y_{t-1} + i + g\n",
        "$$"
      ],
      "id": "0f90048d-5cde-4d90-8b4b-ceb3695ba398"
    },
    {
      "cell_type": "code",
      "execution_count": 14,
      "metadata": {},
      "outputs": [
        {
          "output_type": "display_data",
          "metadata": {},
          "data": {
            "text/plain": [
              "y_limit (generic function with 1 method)"
            ]
          }
        }
      ],
      "source": [
        "function calculate_y(i, b, g, T, y_0)\n",
        "    y = zeros(T + 1)\n",
        "    y[1] = i + b * y_0 + g\n",
        "    for t in 2:(T + 1)\n",
        "        y[t] = b * y[t - 1] + i + g\n",
        "    end\n",
        "    return y\n",
        "end\n",
        "y_limit(i, b, g) = (i + g) / (1 - b)"
      ],
      "id": "9a4703da"
    },
    {
      "cell_type": "markdown",
      "metadata": {},
      "source": [
        "## Plotting Dynamics"
      ],
      "id": "a98871fa-dff5-4224-8f73-fa7b6f52aded"
    },
    {
      "cell_type": "code",
      "execution_count": 15,
      "metadata": {
        "output-location": "column"
      },
      "outputs": [
        {
          "output_type": "display_data",
          "metadata": {},
          "data": {
            "text/html": [
              "<img src=\"data:image/png;base64,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\" />"
            ]
          }
        }
      ],
      "source": [
        "i_0 = 0.3\n",
        "g_0 = 0.3\n",
        "b = 2/3 # = MPC out of income\n",
        "y_0 = 0\n",
        "T = 100\n",
        "plot(0: T,calculate_y(i_0, b, g_0, T, y_0);\n",
        "     title = \"Aggregate Output\",\n",
        "     size=(600,400), xlabel = L\"t\",\n",
        "     label = L\"y_t\")\n",
        "hline!([y_limit(i_0, b, g_0)];\n",
        "       linestyle = :dash,\n",
        "       label = L\"y_{\\infty}\")"
      ],
      "id": "8c8966d0"
    },
    {
      "cell_type": "markdown",
      "metadata": {},
      "source": [
        "## MPCs\n",
        "\n",
        "-   Suggests that national output, $y_t$ is increasing in MPC, $b$, due\n",
        "    to multiplier\n",
        "-   To increase the longrun size of economy, decrease the savings rate\n",
        "    ($1-b$)!"
      ],
      "id": "107a8de0-1f2d-4ed6-bdc4-8654685cb83d"
    },
    {
      "cell_type": "code",
      "execution_count": 16,
      "metadata": {
        "output-location": "slide"
      },
      "outputs": [
        {
          "output_type": "display_data",
          "metadata": {},
          "data": {
            "text/html": [
              "<img src=\"data:image/png;base64,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\" />"
            ]
          }
        }
      ],
      "source": [
        "bs = round.([1 / 3, 2 / 3, 5 / 6, 0.9], digits = 2)\n",
        "plt = plot(title = \"Changing Consumption as a Fraction of Income\",\n",
        "           xlabel = L\"t\", ylabel = L\"y_t\", legend = :topleft)\n",
        "[plot!(plt, 0:T, calculate_y(i_0, b, g_0, T, y_0), label = L\"b = %$b\")\n",
        " for b in bs]\n",
        "plt"
      ],
      "id": "42b9f8e9"
    },
    {
      "cell_type": "markdown",
      "metadata": {},
      "source": [
        "## Can Governments (Magically) Expand Output?\n",
        "\n",
        "-   Remember the limitation is that demand is too low and there is\n",
        "    excess supply of labor and/or capital\n",
        "-   What if the government increases $g$ by $\\Delta$?\n",
        "    -   $y \\to y + \\Delta/(1-b)$\n",
        "-   Assume we start at the $y_{\\infty}$ for the $g=0.3$\n",
        "    -   Then we simulate dynamics for a permanent change to $g_1 = 0.4$\n",
        "\n",
        "## Plotting Dynamics for Government Intervention"
      ],
      "id": "45807311-232f-4c9b-90c5-62cf129daf95"
    },
    {
      "cell_type": "code",
      "execution_count": 17,
      "metadata": {
        "output-location": "column"
      },
      "outputs": [
        {
          "output_type": "display_data",
          "metadata": {},
          "data": {
            "text/html": [
              "<img src=\"data:image/png;base64,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\" />"
            ]
          }
        }
      ],
      "source": [
        "y_lim = y_limit(i_0, b, g_0)\n",
        "Delta_g = 0.1\n",
        "y_1 = calculate_y(i_0, b,\n",
        "                  g_0 + Delta_g,\n",
        "                  T, y_lim) \n",
        "plot(0: T, y_1, title = \"Aggregate Output\",\n",
        "     size=(600,400), xlabel = L\"t\",\n",
        "     label = L\"y_t\")"
      ],
      "id": "3c3b14ef"
    },
    {
      "cell_type": "markdown",
      "metadata": {},
      "source": [
        "# Convergence and Uniqueness\n",
        "\n",
        "## Fixed Point Theory\n",
        "\n",
        "-   Fixed points, which will come about across a variety of places in\n",
        "    economics\n",
        "    -   Nash Equilibria, which requires fixed points of set-valued\n",
        "        functions\n",
        "    -   General Equilibrium\n",
        "    -   Dynamic Programming - e.g., decision problems of macro agents\n",
        "-   Frequently in quantitative macro you will rewrite problems as fixed\n",
        "    points in order to demonstrate uniqueness, convergence, and use\n",
        "    fixed-point algorithms to solve\n",
        "\n",
        "## Convergence\n",
        "\n",
        "-   For $v_{n+1} = f(v_n)$, take the limit for some $v_0$,\n",
        "\n",
        "    $$\n",
        "    \\begin{aligned}\n",
        "    v_1 &= f(v_0)\\\\\n",
        "    v_2 &= f(v_1) = f(f(v_0))\\\\\n",
        "    \\ldots &\\\\\n",
        "    \\lim_{n\\to\\infty} v_n &= f(f(\\ldots f((v_0)))) \\stackrel{?}{\\equiv} v^*\n",
        "    \\end{aligned}\n",
        "    $$\n",
        "\n",
        "    -   Does this limit exist for all $v_0$? (i.e, globally convergent)\n",
        "    -   Does it exist “local” to any $v_0$? (i.e., locally convergent)\n",
        "\n",
        "## Uniqueness\n",
        "\n",
        "-   For $v_{n+1} = f(v_n)$, are there multiple fixed points?\n",
        "    -   i.e., for some $v_0$ goes to $v^*_1$ and for some $v_0$ goes to\n",
        "        $v^*_2$\n",
        "-   Uniqueness should be interpreted in terms of economics\n",
        "    -   Maybe non-uniqueness is interesting and leads to multiple\n",
        "        equilibria (e.g., theories of growth where you can get stuck in\n",
        "        a bad equilibria)\n",
        "    -   Other times it says we wrote down the wrong model\n",
        "\n",
        "## Fixed Point Theorems\n",
        "\n",
        "-   A variety of fixed point theorems exist to show when solutions\n",
        "    exist, and when solutions are unique\n",
        "-   For us, we can look at an especially simple one which provides\n",
        "    necessary and sufficient conditions for convergence and uniqueness\n",
        "    -   [Banach’s fixed-point\n",
        "        theorem](https://en.wikipedia.org/wiki/Banach_fixed-point_theorem)\n",
        "    -   Useful because the proof is constructive (i.e., suggests\n",
        "        algorithm)\n",
        "    -   Gives us intuition on **contraction mappings**\n",
        "-   Lets stay in 1-dimensions $f : \\mathbb{R} \\to \\mathbb{R}$, but can\n",
        "    be generalized\n",
        "\n",
        "## Contraction Mappings\n",
        "\n",
        "-   A **contraction mapping** is a function $f$ such that for some\n",
        "    $0 < \\beta < 1$ and all $x, y \\in X$\n",
        "\n",
        "    $$\n",
        "    |f(x) - f(y)| \\leq \\beta |x - y|\n",
        "    $$\n",
        "\n",
        "    -   i.e., if I apply $f$ to two points, the distance between the two\n",
        "        points shrinks by a factor of $\\beta$\n",
        "\n",
        "## Banach’s Fixed Point Theorem\n",
        "\n",
        "If $f$ is a contraction mapping, then $f$ has a **unique** fixed point\n",
        "$x^*$\n",
        "\n",
        "-   Moreover, for any $x_0$, the sequence $x_0, x_1, \\ldots$ defined by\n",
        "    $x_{n+1} = f(x_n)$ converges to $x^*$\n",
        "-   More generally: true on any on a complete metric space, but we won’t\n",
        "    need to generalize\n",
        "\n",
        "## Sketch of Proof\n",
        "\n",
        "-   The proof is constructive, and gives us a way to find the fixed\n",
        "    point\n",
        "\n",
        "-   Start with $x_0 \\in \\mathbb{R}$ and define $x_{n+1} = f(x_n)$\n",
        "\n",
        "-   Then, for $n \\geq 1$\n",
        "\n",
        "    $$\n",
        "    \\begin{aligned}\n",
        "    |x_{n+1} - x_n| &= |f(x_n) - f(x_{n-1})| \\leq \\beta |x_n - x_{n-1}|\\\\\n",
        "    &\\leq \\beta^2 |x_{n-1} - x_{n-2}| \\leq \\cdots \\leq \\beta^n |x_1 - x_0|\n",
        "    \\end{aligned}\n",
        "    $$\n",
        "\n",
        "-   Since $0 < \\beta < 1$, the right hand side converges to zero as\n",
        "    $n\\to\\infty$, independent of $x_0$\n",
        "\n",
        "-   Hence the $|x_{n+1} - x_n|$ goes to zero, so $x_n = x_{n+1} \\to x^*$\n",
        "    as $n\\to\\infty$\n",
        "\n",
        "    -   More subtle for fancier spaces $X$, but the same idea\n",
        "\n",
        "## Proving Contraction Mappings\n",
        "\n",
        "-   I won’t ask you to do proofs in this class, but useful to see how\n",
        "    you might do it\n",
        "-   Given this, a crucial tool is to be able to prove that a particular\n",
        "    $f$ is a contraction mapping\n",
        "-   Various ways to do this, and we will see connections to the\n",
        "    gradient, $\\nabla f(\\cdot)$\n",
        "-   One useful theorem are called [Blackwell’s Sufficiency\n",
        "    Conditions](https://users.econ.umn.edu/~tkehoe/classes/BlackwellsConditions.pdf)\n",
        "-   Sometimes it is easy to just apply the definition of **contraction\n",
        "    mappings** directly\n",
        "\n",
        "## Example for Linear Functions\n",
        "\n",
        "-   Let $f(x) = a + b x$ for $a, b \\in \\mathbb{R}$\n",
        "\n",
        "-   Substitute into the the definition of **contraction mapping**\n",
        "    directly\n",
        "\n",
        "    $$\n",
        "    \\begin{aligned}\n",
        "    |f(x) - f(y)| &= |a + b x - (a + b y)| = |b| |x - y| \\leq \\beta |x - y|\n",
        "    \\end{aligned}\n",
        "    $$\n",
        "\n",
        "    -   So $f$ is a contraction mapping iff $\\beta \\equiv |b| < 1$\n",
        "    -   Consequently, $f$ has a unique fixed point, $x^* = a + b x^*$\n",
        "\n",
        "-   The multidimensional generalization of this checks the maximum\n",
        "    absolute eigenvalue"
      ],
      "id": "1a65156a-59b5-46b3-ac49-c42450c423d9"
    }
  ],
  "nbformat": 4,
  "nbformat_minor": 5,
  "metadata": {
    "kernelspec": {
      "name": "julia-1.10",
      "display_name": "Julia 1.10.0",
      "language": "julia"
    },
    "language_info": {
      "name": "julia",
      "file_extension": ".jl",
      "mimetype": "application/julia",
      "version": "1.10.0"
    }
  }
}