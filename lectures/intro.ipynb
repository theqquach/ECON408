{
  "cells": [
    {
      "cell_type": "markdown",
      "metadata": {},
      "source": [
        "# ECON408: Computational Methods in Macroeconomics\n",
        "\n",
        "Course Overview and Computational Environment\n",
        "\n",
        "Jesse Perla (University of British Columbia)\n",
        "\n",
        "# Course Overview and Objectives\n",
        "\n",
        "## Course Structure and Prerequisites\n",
        "\n",
        "-   “Macroconomics on a computer”. Mostly macro-finance and macro-labor\n",
        "    -   Not an intro to programming course or stats/econometrics class\n",
        "    -   Less programming than ECON323, more math and theory\n",
        "-   Build experience with computational tools and structural models in\n",
        "    macroeconomics which can help you conduct “counterfactuals”\n",
        "    -   Not much data or empirics\n",
        "    -   Complement to other courses focusing on “field” topics,\n",
        "        empirics, estimation, inference, datascience, etc.\n",
        "\n",
        "## Prerequisites\n",
        "\n",
        "-   You need to have\n",
        "    -   One of ECON 301, ECON 304, ECON 308\n",
        "    -   One of ECON 323, CPSC 103, CPSC 110, MATH 210, COMM 337\n",
        "    -   One of MATH 221, MATH 223.\n",
        "-   **Not negotiable** to have intermediate micro (i.e., macro optional)\n",
        "-   **Not negotiable** to have the formal programming class in some\n",
        "    general purpose language (e.g., Stata and R don’t count, self-study\n",
        "    isn’t enough)\n",
        "-   Math requirement you can talk to me, especially if you took ECON307\n",
        "    or have significant background in linear algebra and multivariate\n",
        "    calculus\n",
        "\n",
        "## Assessments\n",
        "\n",
        "-   Grading:\n",
        "    -   6-8 problem sets: 20% (total)\n",
        "    -   Midterm exam: 30%\n",
        "    -   Final exam: 50%\n",
        "-   Midterm and final examinations will be done in a computer lab or on\n",
        "    your own computer in class. Not testing programming skills\n",
        "-   Problem sets will start off short and easy to help those with less\n",
        "    programming experience, and then build in (economics) complexity.\n",
        "-   **See syllabus** for missed exam policies\n",
        "\n",
        "# Programming Languages\n",
        "\n",
        "## Which Language?\n",
        "\n",
        "-   Plenty of great languages used in economics and finance: Matlab,\n",
        "    Python, Julia, Fortran, C++, Stata, Dynare, R, Stan…\n",
        "    -   All are great for some things, and terrible for others\n",
        "    -   Some are highly specialized and less general purpose than others\n",
        "        (e.g. Stata and R)\n",
        "-   I love specialized languages! But…\n",
        "    -   My philosophy is you will need to learn **at least** two general\n",
        "        purpose programming languages over your career.\n",
        "\n",
        "## Benefits of Learning more Languages\n",
        "\n",
        "Plan for your longrun career, languages come and go…\n",
        "\n",
        "-   The 2nd language makes you a better programmer at both\n",
        "-   The 3rd is even easier as you learn similarities and differences\n",
        "-   Grad School/job applications everyone says they know Python\n",
        "    -   Differentiator to credibly claim you know another serious\n",
        "        language\n",
        "    -   Increasingly important to **signal** computational\n",
        "        sophistication to get jobs\n",
        "    -   Julia is as good as any for that purpose\n",
        "\n",
        "## Advantages of Learning Julia for Economics and Finance\n",
        "\n",
        "-   Python is great for datascience and ML, but “ugly”, verbose, and\n",
        "    slow to use directly for many simulations and computational methods\n",
        "    -   Python wrappers for high-performance code used in ML are great\n",
        "    -   But when an appropriate framework doesn’t exist, writing fast\n",
        "        code yourself in Python is much harder than in Julia\n",
        "    -   Performance in Python usually means C++ or frameworks like JAX\n",
        "-   Julia (and Matlab) is more natural for programming mathematics than\n",
        "    Python. Easier to learn than alternative Python packages.\n",
        "-   Many in economists and finance research use Julia for computational\n",
        "    methods, so it helps you to work as as RA or to get a job as a\n",
        "    predoc\n",
        "\n",
        "## Don’t Worry If You are New to Programming\n",
        "\n",
        "-   Costs of learning languages has decreasing returns to scale\n",
        "    -   Learning the **first programming language is the hardest**\n",
        "-   Julia will come easily if you have the prerequisities (i.e. a course\n",
        "    using Matlab or Python, sadly R is not sufficient preparation)\n",
        "-   Submitting your code in Matlab or Python is not possible given the\n",
        "    course structure and infrastructure\n",
        "\n",
        "# Quantitative, Empirical, and Theoretical Economics\n",
        "\n",
        "## Why Isn’t Big Data ML/Statistics Enough?\n",
        "\n",
        "-   Going well before the big data/ML revolution economists asked\n",
        "    whether they could just use statistical models with enough data\n",
        "    -   Answer: only if you had the right (statistical) model for a\n",
        "        particular experiment, but historical data doesn’t have\n",
        "        variation in crucial directions\n",
        "    -   The right “statistical model” would need to reflect that humans\n",
        "        adapt and make forecasts - responding to policy and incentives\n",
        "    -   Especially difficult in macro because of dynamics and GE effects\n",
        "    -   Cowles Commision, Lucas Critique, Policy Ineffectiveness\n",
        "        Proposition (Sargent and Wallace), Time Inconsistency (Kydland\n",
        "        and Prescott)\n",
        "-   Having more data and fancier statistics doesn’t solve these problems\n",
        "\n",
        "## Forecasts and Distributions\n",
        "\n",
        "-   Summary: conducting experiments with a data generating process (DGP)\n",
        "    is fine, but how to find the right one **for a given problem**?  \n",
        "-   Think probabilistically: the world is a joint distribution of\n",
        "    observables, unobservables (i.e., latent variables), shocks, and\n",
        "    parameters\n",
        "-   Joint distributions let you calculate conditional expectations and\n",
        "    conduct “experiments” by conditioning on different events\n",
        "-   Statistics and machine learning is often criticized as being only\n",
        "    about “prediction” and sometimes “inference”\n",
        "    -   This isn’t quite true, but lets us ask what prediction really\n",
        "        means\n",
        "\n",
        "## Counterfactuals: “What If?”\n",
        "\n",
        "-   Most interesting problems in economics are about counterfactuals\n",
        "    -   What would unemployment have been if the government had not\n",
        "        intervened during the recession?\n",
        "    -   What would have been her income if she had not gone to college,\n",
        "        or if she wasn’t subjected to gender bias?\n",
        "-   By definition these are not observable. If we had the data already\n",
        "    we wouldn’t need to ponder these “What if?”\n",
        "-   How can you answer a question with data that doesn’t exist?"
      ],
      "id": "85d59ba0-a03c-4fc3-8bfb-6597c29ffc5f"
    },
    {
      "cell_type": "raw",
      "metadata": {
        "raw_mimetype": "text/html"
      },
      "source": [
        "<center>"
      ],
      "id": "d4b18141-b819-457c-b856-ce6fedead96e"
    },
    {
      "cell_type": "markdown",
      "metadata": {},
      "source": [
        "**YOU HAVE TO MAKE SOMETHING UP**"
      ],
      "id": "c1b9eb0e-47f5-4ab0-a33e-ddc92399c6dd"
    },
    {
      "cell_type": "raw",
      "metadata": {
        "raw_mimetype": "text/html"
      },
      "source": [
        "</center>"
      ],
      "id": "1020779b-c748-40eb-b21a-3686b187ee4f"
    },
    {
      "cell_type": "markdown",
      "metadata": {},
      "source": [
        "## The Role of Theory\n",
        "\n",
        "-   There is no data interpretation without some theory - even if it is\n",
        "    sometimes implicit. Interpreting empirical results require\n",
        "    self-reflection\n",
        "-   The role of both data and theory is then to help constrain the set\n",
        "    of possible counterfactuals for the “what if?”\n",
        "-   So any criticisms of ML or statistics as “merely prediction” are\n",
        "    basically a statement on whether the theory makes sense\n",
        "    -   i.e., if you fit $y = f(X) + \\epsilon$ on data to find a\n",
        "        $\\hat{f}(X)$ function, then theory tells you if you made the\n",
        "        right assumptions (e.g., that the $X$ data is representative and\n",
        "        wouldn’t change for your counterfactual of interest, etc)\n",
        "\n",
        "## Approach in this Course\n",
        "\n",
        "-   Always remember: you need assumptions in one form or another because\n",
        "    the counterfactuals are inherently not in the data\n",
        "-   Broadly there are three approaches to conducting counterfactuals.\n",
        "    They are not mutually exclusive\n",
        "    1.  Structural models emphasize theory as structure on the joint\n",
        "        distribution\n",
        "    2.  Causal inference using matching, instrumental variables, etc.\n",
        "        which use theoretical assumptions on independence to adjust for\n",
        "        bias and missing unobservable (latent) variables\n",
        "    3.  Randomized Experiments/Treatment Effects where you can get good\n",
        "        data which truly randomizes some sort of “treatment”.\n",
        "-   In this course we will focus on **simulations and structural\n",
        "    models** - sometimes called “quantitative economics”\n",
        "\n",
        "## Macroeconomic Models Require Lots of Tools\n",
        "\n",
        "-   Conducting macroeconomic counterfactuals requires a lot of tools\n",
        "    because\n",
        "    -   Macroeconomic decisions are dynamic and often stochastic\n",
        "    -   Agents are forward looking\n",
        "    -   Agents interact through markets and prices, which creates\n",
        "        “general equilibrium” effects (i.e., which are inherently\n",
        "        nonlinear)\n",
        "    -   Heterogeneity leads to the distributional being crucial\n",
        "    -   Agent’s may respond to policies by thinking through the dynamic\n",
        "        effects\n",
        "-   We formalize these assumptions with math, but we are rarely able to\n",
        "    solve them analytically. Use a computer!\n",
        "\n",
        "## Tools Topics\n",
        "\n",
        "See Syllabus for more details\n",
        "\n",
        "1.  Linear algebra and basic scientific computing\n",
        "2.  Geometric Series and Discrete Time Dynamics\n",
        "3.  Basic Stochastic Processes\n",
        "4.  Linear State Space Models\n",
        "5.  Markov Chains\n",
        "6.  Dynamic Programming\n",
        "\n",
        "## Applications Topics\n",
        "\n",
        "The tools are interleaved with applications such as\n",
        "\n",
        "1.  Marginal Propensity to Consume\n",
        "2.  Dynamics of Wealth and Distributions\n",
        "3.  Permanent Income Model\n",
        "4.  Models of Unemployment\n",
        "5.  Asset Pricing\n",
        "6.  Lucas Trees and No-arbitrage Option Pricing\n",
        "7.  Recursive Equilibria and the McCall Search Model\n",
        "8.  Time permitting: Rational Expectations and Firm Equilibria, Growth\n",
        "    Models\n",
        "\n",
        "# Computational Environment\n",
        "\n",
        "## Setup\n",
        "\n",
        "-   You can install Julia on your laptop by following [these\n",
        "    instructions](https://julia.quantecon.org/getting_started_julia/getting_started.html)\n",
        "-   While one can use Julia entirely from just Jupyter notebooks, we\n",
        "    will also introduce basic [GitHub](https://github.com/) and [VS\n",
        "    Code](https://code.visualstudio.com/) usage as well to help broaden\n",
        "    your exposure to computational tools.\n",
        "-   So my suggestion is to challenge yourself to learn VS Code, GitHub,\n",
        "    and other tools. Further **signalling** for RA/predoc/etc. jobs\n",
        "\n",
        "## Summary of Installation\n",
        "\n",
        "1.  Install\n",
        "    [Git](https://git-scm.com/book/en/v2/Getting-Started-Installing-Git/)\n",
        "2.  Install [Anaconda](https://www.anaconda.com/download)\n",
        "3.  Install Julia with\n",
        "    [juliaup](https://github.com/JuliaLang/juliaup#installation)\n",
        "    -   Windows: easiest method is `winget install julia -s msstore` in\n",
        "        a Windows terminal\n",
        "    -   Linux/Mac: in a terminal use\n",
        "        `curl -fsSL https://install.julialang.org | sh`\n",
        "4.  Install [Visual Studio Code (VS\n",
        "    Code)](https://code.visualstudio.com/)\n",
        "5.  Install the [VS Code\n",
        "    Julia](https://marketplace.visualstudio.com/items?itemName=julialang.language-julia)\n",
        "    extension\n",
        "\n",
        "## Install Packages\n",
        "\n",
        "1.  Open the command palette with `<Ctrl+Shift+P>` or `<Cmd+Shift+P>` on\n",
        "    mac and type `> Git: Clone` and choose\n",
        "    `https://github.com/quantecon/lecture-julia.notebooks`\n",
        "\n",
        "2.  Instantiate packages, in VSCode or\n",
        "\n",
        "    -   Run a terminal in that directory\n",
        "    -   Then `julia` and `]` enters package mode\n",
        "    -   `] add IJulia`, which adds to global environment\n",
        "    -   `] activate`, which chooses the `Project.toml` file\n",
        "    -   `] instantiate`\n",
        "\n",
        "3.  Then use VS Code or `jupyter lab` to open\n",
        "\n",
        "## Julia Environment Basics\n",
        "\n",
        "-   Project files keep track of dependencies and make things\n",
        "    reproducible\n",
        "    -   Similar to Python’s virtual environments but easier to use\n",
        "-   VS Code and Jupyter will automatically activate a `Project.toml`\n",
        "    -   In REPL or Jupyter enter `]` for managing packages\n",
        "    -   Can manually activate with `] activate` or\n",
        "        `] activate path/to/project`\n",
        "    -   On commandline, can use `julia --project`\n",
        "    -   If a file doesn’t exist, then `]activate` creates one for the\n",
        "        folder\n",
        "-   With activated project, use `] instantiate` to install all the\n",
        "    packages\n",
        "-   For this course: no package management required after instantiation\n",
        "\n",
        "## Reproducibility\n",
        "\n",
        "-   **ALWAYS** use a `Project.toml` file\n",
        "    -   Keep your global environment as clean\n",
        "    -   Enough to do `] add IJulia`\n",
        "-   Associated with `Project.toml` is a `Manifest.toml` file which\n",
        "    establishes the exact versions for reproducibility\n",
        "    -   `] instantiate` will install the exact versions\n",
        "    -   Less important for us, but very useful for reproducibility in\n",
        "        research to distribute with project\n",
        "\n",
        "## Instantiate This Repo\n",
        "\n",
        "-   Ensure you have cloned this repo,\n",
        "    `https://github.com/jlperla/ECON408`\n",
        "    -   Use VS Code or `git clone`\n",
        "-   If you previously installed the `lecture-julia.notebooks` repo you\n",
        "    won’t need to do `] instantiate` again\n",
        "-   Access all lectures as `.ipynb` in the `/lectures` directory\n",
        "\n",
        "# Crash Course on Julia\n",
        "\n",
        "## Introductory Lectures\n",
        "\n",
        "-   Assuming you are familiar with Matlab or Python, Julia will be easy\n",
        "    to learn\n",
        "-   Adapted from QuantEcon lectures coauthored with John Stachurski and\n",
        "    Thomas J. Sargent\n",
        "    -   [Julia by\n",
        "        Example](https://julia.quantecon.org/getting_started_julia/julia_by_example.html)\n",
        "    -   [Essentials](https://julia.quantecon.org/julia_essentials.html)\n",
        "    -   [Fundamental\n",
        "        Types](https://julia.quantecon.org/getting_started_julia/fundamental_types.html)\n",
        "\n",
        "## Using Packages\n",
        "\n",
        "-   First ensure your project is activated and packages instantiated"
      ],
      "id": "b9cbefdd-1568-4b2e-bb34-85719e7ecd17"
    },
    {
      "cell_type": "code",
      "execution_count": 1,
      "metadata": {},
      "outputs": [],
      "source": [
        "using LinearAlgebra, Statistics, Plots"
      ],
      "id": "28186404"
    },
    {
      "cell_type": "markdown",
      "metadata": {},
      "source": [
        "## Plotting Random Numbers"
      ],
      "id": "b0aae9d8-5b8e-4e0a-9d68-20c2cf91a183"
    },
    {
      "cell_type": "code",
      "execution_count": 2,
      "metadata": {
        "output-location": "column"
      },
      "outputs": [
        {
          "output_type": "display_data",
          "metadata": {},
          "data": {
            "text/html": [
              "<img src=\"data:image/png;base64,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\" />"
            ]
          }
        }
      ],
      "source": [
        "n = 20\n",
        "ep = randn(n)\n",
        "plot(1:n, ep;size=(600,400))"
      ],
      "id": "d88eb98e"
    },
    {
      "cell_type": "markdown",
      "metadata": {},
      "source": [
        "## Loops"
      ],
      "id": "b0ac1eb3-a21a-47eb-90b4-0b05338f8570"
    },
    {
      "cell_type": "code",
      "execution_count": 3,
      "metadata": {},
      "outputs": [
        {
          "output_type": "stream",
          "name": "stdout",
          "text": [
            "[1.188012973625642, 0.8252609512921617, 0.05954832456886622, 1.7810729774946072, -0.8217227026866354]"
          ]
        }
      ],
      "source": [
        "n = 100\n",
        "ep = zeros(n)\n",
        "for i in 1:n\n",
        "    ep[i] = randn()\n",
        "end\n",
        "println(ep[1:5])"
      ],
      "id": "f128467d"
    },
    {
      "cell_type": "markdown",
      "metadata": {},
      "source": [
        "## Comprehensions"
      ],
      "id": "a18f125c-f851-4e6e-96ae-2a3f8af67b39"
    },
    {
      "cell_type": "code",
      "execution_count": 4,
      "metadata": {},
      "outputs": [
        {
          "output_type": "stream",
          "name": "stdout",
          "text": [
            "[2i for i = 1:4] = [2, 4, 6, 8]"
          ]
        }
      ],
      "source": [
        "# Comprehensions\n",
        "@show [2 * i for i in 1:4];"
      ],
      "id": "63c44406"
    },
    {
      "cell_type": "markdown",
      "metadata": {},
      "source": [
        "## Manually Calculated Mean"
      ],
      "id": "24cff1d7-65fd-412a-81b5-a005d109c726"
    },
    {
      "cell_type": "code",
      "execution_count": 5,
      "metadata": {},
      "outputs": [
        {
          "output_type": "stream",
          "name": "stdout",
          "text": [
            "ep_mean = ep_sum / length(ep) = 0.08558092820295879\n",
            "ep_mean ≈ mean(ep) = true\n",
            "ep_mean = 0.08558092820295879\n",
            "sum(ep) / length(ep) = 0.08558092820295878\n",
            "sum((ep_val for ep_val = ep)) / length(ep) = 0.08558092820295879"
          ]
        }
      ],
      "source": [
        "ep_sum = 0.0 # careful to use 0.0 here, instead of 0\n",
        "for ep_val in ep\n",
        "    ep_sum = ep_sum + ep_val\n",
        "end\n",
        "@show ep_mean = ep_sum / length(ep)\n",
        "@show ep_mean ≈ mean(ep)\n",
        "@show ep_mean\n",
        "@show sum(ep) / length(ep)\n",
        "@show sum(ep_val for ep_val in ep) / length(ep); # generator/comprehension"
      ],
      "id": "3ec122ad"
    },
    {
      "cell_type": "markdown",
      "metadata": {},
      "source": [
        "## Functions"
      ],
      "id": "9f99da7a-d747-4e80-8992-d3731d613956"
    },
    {
      "cell_type": "code",
      "execution_count": 6,
      "metadata": {},
      "outputs": [
        {
          "output_type": "stream",
          "name": "stdout",
          "text": [
            "[2.366586610327426, 0.0003381275379805951, 0.3004003984808043, 0.06278870515010888, 0.5250744596521744]"
          ]
        }
      ],
      "source": [
        "function generatedata(n)\n",
        "    ep = randn(n) # use built in function\n",
        "    for i in eachindex(ep) # or i in 1:length(ep)\n",
        "        ep[i] = ep[i]^2 # squaring the result\n",
        "    end\n",
        "    return ep\n",
        "end\n",
        "data = generatedata(5)\n",
        "println(data)"
      ],
      "id": "ebe1f34a"
    },
    {
      "cell_type": "markdown",
      "metadata": {},
      "source": [
        "## Broadcasting"
      ],
      "id": "cc286c59-3fb5-40ba-a738-45d29b138c58"
    },
    {
      "cell_type": "code",
      "execution_count": 7,
      "metadata": {},
      "outputs": [
        {
          "output_type": "stream",
          "name": "stdout",
          "text": [
            "generatedata(5) = [1.8506889845835113, 0.007634473413156912, 0.0026986474267356388, 0.7489242143419078, 0.025540044603506395]\n",
            "generatedata2(5) = [2.064476153513503, 1.0211474475681028, 0.26603278307578476, 0.073742344957951, 0.22337872225262068]"
          ]
        }
      ],
      "source": [
        "function generatedata(n)\n",
        "    ep = randn(n) # use built in function\n",
        "    return ep .^ 2\n",
        "end\n",
        "@show generatedata(5)\n",
        "generatedata2(n) = randn(n) .^ 2\n",
        "@show generatedata2(5);"
      ],
      "id": "632a17f6"
    },
    {
      "cell_type": "markdown",
      "metadata": {},
      "source": [
        "## Higher Order Functions"
      ],
      "id": "d09b5ded-816f-4624-a4fe-bb9658bd1261"
    },
    {
      "cell_type": "code",
      "execution_count": 8,
      "metadata": {},
      "outputs": [
        {
          "output_type": "stream",
          "name": "stdout",
          "text": [
            "generatedata3(5, f) = [1.4442588906662452, 0.073811409917904, 0.50323470127341, 0.769947361659156, 0.5984448365740661]"
          ]
        }
      ],
      "source": [
        "generatedata3(n, gen) = gen.(randn(n)) # broadcasts on gen\n",
        "f(x) = x^2 # simple square function\n",
        "@show generatedata3(5, f); # applies f"
      ],
      "id": "72a2ef98"
    },
    {
      "cell_type": "markdown",
      "metadata": {},
      "source": [
        "## More Plotting Examples"
      ],
      "id": "59eea743-54ff-4c19-857c-584bc6400733"
    },
    {
      "cell_type": "code",
      "execution_count": 9,
      "metadata": {
        "output-location": "column"
      },
      "outputs": [
        {
          "output_type": "display_data",
          "metadata": {},
          "data": {
            "text/html": [
              "<img src=\"data:image/png;base64,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\" />"
            ]
          }
        }
      ],
      "source": [
        "using Distributions\n",
        "function plothistogram(dist, n)\n",
        "    # n draws from distribution\n",
        "    ep = rand(dist, n) \n",
        "    return histogram(ep;size=(600,400))\n",
        "end\n",
        "dist = Laplace() # dist != dist in function\n",
        "plothistogram(dist, 500)"
      ],
      "id": "82f6d96d"
    },
    {
      "cell_type": "markdown",
      "metadata": {},
      "source": [
        "## Changing Types\n",
        "\n",
        "-   The `rand(dist, n)` changes its behavior based on the type of `dist`"
      ],
      "id": "195f8ba6-78f8-4872-a51c-4c9c7085a376"
    },
    {
      "cell_type": "code",
      "execution_count": 10,
      "metadata": {
        "output-location": "column"
      },
      "outputs": [
        {
          "output_type": "display_data",
          "metadata": {},
          "data": {
            "text/html": [
              "<img src=\"data:image/png;base64,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\" />"
            ]
          }
        }
      ],
      "source": [
        "dist = Normal()\n",
        "plothistogram(Normal(), 500)"
      ],
      "id": "a4137255"
    },
    {
      "cell_type": "markdown",
      "metadata": {},
      "source": [
        "## Ranges"
      ],
      "id": "6d5f3462-6c8f-4795-b22f-64753b719e95"
    },
    {
      "cell_type": "code",
      "execution_count": 11,
      "metadata": {
        "output-location": "column"
      },
      "outputs": [
        {
          "output_type": "stream",
          "name": "stdout",
          "text": [
            "x = 0.0:0.25:1.0\n",
            "Vector(x) = [0.0, 0.25, 0.5, 0.75, 1.0]"
          ]
        },
        {
          "output_type": "display_data",
          "metadata": {},
          "data": {
            "text/html": [
              "<img src=\"data:image/png;base64,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\" />"
            ]
          }
        }
      ],
      "source": [
        "x = range(0.0, 1.0; length = 5)\n",
        "@show x\n",
        "@show Vector(x)\n",
        "plot(x, sqrt.(x);size=(600,400))"
      ],
      "id": "b493e399"
    },
    {
      "cell_type": "markdown",
      "metadata": {},
      "source": [
        "## Defining Functions\n",
        "\n",
        "-   You can create anonymous functions as in R, but it is harder for the\n",
        "    compiler because the type `f3` can change. Avoid `->` if name\n",
        "    required"
      ],
      "id": "68dadfca-d7c3-4f01-8677-f94094dbba4a"
    },
    {
      "cell_type": "code",
      "execution_count": 12,
      "metadata": {},
      "outputs": [
        {
          "output_type": "stream",
          "name": "stdout",
          "text": [
            "(f(2), f2(2), f3(2)) = (4, 4, 4)"
          ]
        }
      ],
      "source": [
        "f(x) = x^2\n",
        "function f2(x)\n",
        "    return x^2\n",
        "end\n",
        "f3 = x -> x^2 # assignment not required\n",
        "@show f(2), f2(2), f3(2);"
      ],
      "id": "5c95b377"
    },
    {
      "cell_type": "markdown",
      "metadata": {},
      "source": [
        "## Default Arguments"
      ],
      "id": "44a32f18-4e8f-4504-a30e-abc47f4e39c1"
    },
    {
      "cell_type": "code",
      "execution_count": 13,
      "metadata": {},
      "outputs": [
        {
          "output_type": "stream",
          "name": "stdout",
          "text": [
            "f(pi) = 0.36787944117144233\n",
            "f(pi, 2) = 2.718281828459045"
          ]
        }
      ],
      "source": [
        "f(x, a = 1) = exp(cos(a * x))\n",
        "@show f(pi)\n",
        "@show f(pi, 2);"
      ],
      "id": "a9ad2636"
    },
    {
      "cell_type": "markdown",
      "metadata": {},
      "source": [
        "## Keyword Arguments"
      ],
      "id": "161361ce-daa5-4e4c-84b5-fc530dc1ab20"
    },
    {
      "cell_type": "code",
      "execution_count": 14,
      "metadata": {},
      "outputs": [
        {
          "output_type": "stream",
          "name": "stdout",
          "text": [
            "f(pi) = 0.36787944117144233\n",
            "f(pi; a = 2) = 2.718281828459045\n",
            "f(pi; a) = 2.718281828459045"
          ]
        }
      ],
      "source": [
        "f2(x; a = 1) = exp(cos(a * x))  # note the ; in the definition\n",
        "# same as longform\n",
        "function f(x; a = 1)\n",
        "    return exp(cos(a * x))\n",
        "end\n",
        "@show f(pi)\n",
        "@show f(pi; a = 2) # passing in adate\n",
        "a = 2\n",
        "@show f(pi; a); # equivalent to f(pi; a = a)"
      ],
      "id": "24e70084"
    },
    {
      "cell_type": "markdown",
      "metadata": {},
      "source": [
        "## Closures\n",
        "\n",
        "-   In general, try to avoid globals and closures outside of functions"
      ],
      "id": "e2cb6533-178e-44c2-a5b3-26500a859a75"
    },
    {
      "cell_type": "code",
      "execution_count": 15,
      "metadata": {},
      "outputs": [
        {
          "output_type": "stream",
          "name": "stdout",
          "text": [
            "f(1) = 0.2\n",
            "f(1) = 0.3"
          ]
        }
      ],
      "source": [
        "a = 0.2\n",
        "f(x) = a * x^2  # refers to the `a` in the outer scope\n",
        "@show f(1)\n",
        "# The a is captured in this scope by name.  Careful!\n",
        "a = 0.3\n",
        "@show f(1);"
      ],
      "id": "7411598f"
    },
    {
      "cell_type": "markdown",
      "metadata": {},
      "source": [
        "## Closures Inside Functions\n",
        "\n",
        "-   But within a function they are safe, common, and usually free of\n",
        "    overhead"
      ],
      "id": "ae54d9ed-5b7b-46f2-8ca3-431071c246d9"
    },
    {
      "cell_type": "code",
      "execution_count": 16,
      "metadata": {},
      "outputs": [
        {
          "output_type": "stream",
          "name": "stdout",
          "text": [
            "g(0.2) = 0.2"
          ]
        }
      ],
      "source": [
        "function g(a)\n",
        "    f(x) = a * x^2  # refers to the `a` passed in the function\n",
        "    return f(1)\n",
        "end\n",
        "a = 123.5 # Different scope than the `a` in function\n",
        "@show g(0.2);"
      ],
      "id": "53db3041"
    },
    {
      "cell_type": "markdown",
      "metadata": {},
      "source": [
        "## Tuples and Named Tuples"
      ],
      "id": "62ce00cf-3b9e-4f31-982b-3d795588d431"
    },
    {
      "cell_type": "code",
      "execution_count": 17,
      "metadata": {},
      "outputs": [
        {
          "output_type": "stream",
          "name": "stdout",
          "text": [
            "t[1] = 1\n",
            "nt = (a = 1, b = 2.0, c = \"hello\")\n",
            "nt.a = 1"
          ]
        }
      ],
      "source": [
        "t = (1, 2.0, \"hello\")\n",
        "@show t[1]\n",
        "nt = (;a = 1, b = 2.0, c = \"hello\")\n",
        "@show nt\n",
        "@show nt.a; # can't use nt[1] or nt[\"a\"]"
      ],
      "id": "2a7c85ec"
    },
    {
      "cell_type": "markdown",
      "metadata": {},
      "source": [
        "## Tuples Packing and Unpacking"
      ],
      "id": "05df8c9b-ca42-48a8-b8e3-b6c2ca712802"
    },
    {
      "cell_type": "code",
      "execution_count": 18,
      "metadata": {},
      "outputs": [
        {
          "output_type": "stream",
          "name": "stdout",
          "text": [
            "solve_model(0.1) = (a = 0.010000000000000002, b = 0.020000000000000004, c = 0.030000000000000006)\n",
            "a = 0.010000000000000002, c = 0.030000000000000006"
          ]
        }
      ],
      "source": [
        "function solve_model(x)\n",
        "    a = x^2\n",
        "    b = 2 * a\n",
        "    c = a + b\n",
        "    return (; a, b, c)  # note local scope of tuples!\n",
        "end\n",
        "@show solve_model(0.1)\n",
        "# can unpack in different order, or use subset of values\n",
        "(; c, a) = solve_model(0.1)\n",
        "println(\"a = $a, c = $c\");"
      ],
      "id": "8ada2807"
    },
    {
      "cell_type": "markdown",
      "metadata": {},
      "source": [
        "## Array Basics"
      ],
      "id": "f302206e-1b1f-4f31-8968-d5012c35bd96"
    },
    {
      "cell_type": "code",
      "execution_count": 19,
      "metadata": {
        "output-location": "column"
      },
      "outputs": [
        {
          "output_type": "stream",
          "name": "stdout",
          "text": [
            "size(b) = (3,)\n",
            "size(A) = (2, 2)\n",
            "typeof(b) = Vector{Float64}\n",
            "typeof(A) = Matrix{Int64}\n",
            "zeros(3) = [0.0, 0.0, 0.0]\n",
            "ones(2, 2) = [1.0 1.0; 1.0 1.0]\n",
            "fill(1.0, 2, 2) = [1.0 1.0; 1.0 1.0]\n",
            "similar(A) = [4823017808 4823018912; 4823010288 4823010224]\n",
            "A[1, 1] = 1\n",
            "A[1, :] = [1, 2]\n",
            "A[1:end, 1] = [1, 3]"
          ]
        }
      ],
      "source": [
        "b = [1.0, 2.1, 3.0] # 1d array\n",
        "A = [1 2; 3 4] # 2x2 matrix\n",
        "@show size(b)\n",
        "@show size(A)\n",
        "@show typeof(b)\n",
        "@show typeof(A)\n",
        "@show zeros(3)\n",
        "@show ones(2, 2)\n",
        "@show fill(1.0, 2, 2)\n",
        "@show similar(A)\n",
        "@show A[1, 1]\n",
        "@show A[1, :]\n",
        "@show A[1:end, 1];"
      ],
      "id": "e0e8000a"
    },
    {
      "cell_type": "markdown",
      "metadata": {},
      "source": [
        "## Linear Algebra Basics"
      ],
      "id": "30979f00-544f-46db-a469-0dda519b1f63"
    },
    {
      "cell_type": "code",
      "execution_count": 20,
      "metadata": {
        "output-location": "column"
      },
      "outputs": [
        {
          "output_type": "stream",
          "name": "stdout",
          "text": [
            "A * b = [5, 11]\n",
            "A' = [1 3; 2 4]\n",
            "dot(b, [5.0, 2.0]) = 9.0\n",
            "b' * b = 5\n",
            "Diagonal([1.0, 2.0]) = [1.0 0.0; 0.0 2.0]\n",
            "I = UniformScaling{Bool}(true)\n",
            "inv(A) = [-1.9999999999999996 0.9999999999999998; 1.4999999999999998 -0.4999999999999999]"
          ]
        }
      ],
      "source": [
        "A = [1 2; 3 4]\n",
        "b = [1, 2]\n",
        "@show A * b # Matrix product\n",
        "@show A' # transpose\n",
        "@show dot(b, [5.0, 2.0]) # dot product\n",
        "@show b' * b # dot product\n",
        "@show Diagonal([1.0, 2.0]) # diagonal matrix\n",
        "@show I # identity matrix\n",
        "@show inv(A); # inverse"
      ],
      "id": "e9781d53"
    },
    {
      "cell_type": "markdown",
      "metadata": {},
      "source": [
        "## Modifying Vectors\n",
        "\n",
        "-   Scalars and tuples/named tuples are immutable\n",
        "-   Vectors and matrices are mutable"
      ],
      "id": "124cd618-8ed5-492f-b3ef-d38d11b1a758"
    },
    {
      "cell_type": "code",
      "execution_count": 21,
      "metadata": {
        "output-location": "column"
      },
      "outputs": [
        {
          "output_type": "stream",
          "name": "stdout",
          "text": [
            "A = [2 2; 3 4]\n",
            "b = [2, 2]\n",
            "b = [3, 4]\n",
            "A = [3 4; 3 4]"
          ]
        }
      ],
      "source": [
        "A = [1 2; 3 4]\n",
        "A[1, 1] = 2\n",
        "@show A\n",
        "b = [1, 2]\n",
        "b[1] = 2\n",
        "@show b\n",
        "b .= [3, 4] # otherwise just renamed\n",
        "@show b\n",
        "A[1, :] .= [3, 4] # assign slice\n",
        "@show A;"
      ],
      "id": "8d9cdb22"
    },
    {
      "cell_type": "markdown",
      "metadata": {},
      "source": [
        "## Learning More\n",
        "\n",
        "-   After this, most of the other material on Julia will become clear as\n",
        "    you go\n",
        "-   This covers part of [Julia\n",
        "    Essentials](https://julia.quantecon.org/getting_started_julia/julia_essentials.html)\n",
        "    and [Fundamental\n",
        "    Types](https://julia.quantecon.org/getting_started_julia/fundamental_types.html)\n",
        "-   Other more advanced lectures, not required for this course, are\n",
        "    -   [Introduction to Types and Generic\n",
        "        Programming](https://julia.quantecon.org/more_julia/generic_programming.html)\n",
        "    -   [Generic\n",
        "        Programming](https://julia.quantecon.org/more_julia/generic_programming.html)\n",
        "    -   [Visual Studio and Other\n",
        "        Tools](https://julia.quantecon.org/software_engineering/tools_editors.html)"
      ],
      "id": "cd7073d9-0c7f-487c-bac5-495dd3515fa5"
    }
  ],
  "nbformat": 4,
  "nbformat_minor": 5,
  "metadata": {
    "kernelspec": {
      "name": "julia-1.10",
      "display_name": "Julia 1.10.0",
      "language": "julia"
    },
    "language_info": {
      "name": "julia",
      "file_extension": ".jl",
      "mimetype": "application/julia",
      "version": "1.10.0"
    }
  }
}