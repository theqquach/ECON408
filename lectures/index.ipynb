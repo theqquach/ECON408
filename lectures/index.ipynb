{
  "cells": [
    {
      "cell_type": "markdown",
      "metadata": {},
      "source": [
        "# ECON408: Computational Methods in Macroeconomics\n",
        "\n",
        "To use with Jupyter, clone the repository or download the notebooks.\n",
        "\n",
        "# Lectures\n",
        "\n",
        "1.  <a href=\"intro.html\" target=\"_blank\">Introduction</a>,\n",
        "    <a href=\"intro.ipynb\" target=\"_blank\">Jupyter</a>,\n",
        "    <a href=\"intro.pdf\" target=\"_blank\">PDF</a>\n",
        "2.  <a href=\"geometric_series_fixed_points.html\" target=\"_blank\">Geometric\n",
        "    Series, Fixed Points, and Asset Pricing</a>,\n",
        "    <a href=\"geometric_series_fixed_points.ipynb\"\n",
        "    target=\"_blank\">Jupyter</a>,\n",
        "    <a href=\"geometric_series_fixed_points.pdf\" target=\"_blank\">PDF</a>\n",
        "3.  <a href=\"deterministic_dynamics.html\" target=\"_blank\">Deterministic\n",
        "    Dynamics and Introduction to Growth Models</a>,\n",
        "    <a href=\"deterministic_dynamics.ipynb\" target=\"_blank\">Jupyter</a>,\n",
        "    <a href=\"deterministic_dynamics.pdf\" target=\"_blank\">PDF</a>\n",
        "4.  <a href=\"stochastic_dynamics.html\" target=\"_blank\">Stochastic Dynamics,\n",
        "    AR(1) Processes, and Ergodicity</a>,\n",
        "    <a href=\"stochastic_dynamics.ipynb\" target=\"_blank\">Jupyter</a>,\n",
        "    <a href=\"stochastic_dynamics.pdf\" target=\"_blank\">PDF</a>\n",
        "5.  <a href=\"wealth_distribution_firm_dynamics.html\" target=\"_blank\">Wealth\n",
        "    Distribution, Firm Dynamics, and Inequality</a>,\n",
        "    <a href=\"wealth_distribution_firm_dynamics.ipynb\"\n",
        "    target=\"_blank\">Jupyter</a>,\n",
        "    <a href=\"wealth_distribution_firm_dynamics.pdf\" target=\"_blank\">PDF</a>\n",
        "6.  <a href=\"linear_state_space_models.html\" target=\"_blank\">Linear State\n",
        "    Space Models, Asset Pricing, and the Kalman Filter</a>,\n",
        "    <a href=\"linear_state_space_models.ipynb\" target=\"_blank\">Jupyter</a>,\n",
        "    <a href=\"linear_state_space_models.pdf\" target=\"_blank\">PDF</a>\n",
        "7.  <a href=\"permanent_income.html\" target=\"_blank\">Optimal Consumption,\n",
        "    Savings, and the Permanent Income Model</a>,\n",
        "    <a href=\"permanent_income.ipynb\" target=\"_blank\">Jupyter</a>,\n",
        "    <a href=\"permanent_income.pdf\" target=\"_blank\">PDF</a>\n",
        "8.  <a href=\"markov_chains_applications.html\" target=\"_blank\">Markov Chains\n",
        "    with Applications to Unemployment and Asset Pricing</a>,\n",
        "    <a href=\"markov_chains_applications.ipynb\" target=\"_blank\">Jupyter</a>,\n",
        "    <a href=\"markov_chains_applications.pdf\" target=\"_blank\">PDF</a>\n",
        "9.  <a href=\"search_dynamic_programming.html\" target=\"_blank\">Search Models\n",
        "    of Unemployment and Dynamic Programming</a>,\n",
        "    <a href=\"search_dynamic_programming.ipynb\" target=\"_blank\">Jupyter</a>,\n",
        "    <a href=\"search_dynamic_programming.pdf\" target=\"_blank\">PDF</a>\n",
        "10. <a href=\"asset_pricing_lucas_trees.html\" target=\"_blank\">Asset Pricing,\n",
        "    Lucas Trees, and Options</a>,\n",
        "    <a href=\"asset_pricing_lucas_trees.ipynb\" target=\"_blank\">Jupyter</a>,\n",
        "    <a href=\"asset_pricing_lucas_trees.pdf\" target=\"_blank\">PDF</a>"
      ],
      "id": "1cb5c8e9-3c6c-4d4b-9dcc-00747c280f69"
    }
  ],
  "nbformat": 4,
  "nbformat_minor": 5,
  "metadata": {
    "kernelspec": {
      "display_name": "Python 3",
      "language": "python",
      "name": "python3"
    }
  }
}