{
  "cells": [
    {
      "cell_type": "markdown",
      "metadata": {},
      "source": [
        "# ECON408: Assignment 5\n",
        "\n",
        "Jesse Perla, UBC"
      ],
      "id": "caac9c2a-1375-4874-989f-0b7319178792"
    },
    {
      "cell_type": "markdown",
      "metadata": {},
      "source": [
        "## Student Name/Number: (doubleclick to edit)"
      ],
      "id": "9b3bcb8c-9e2b-44f5-b03b-8b085d4d167a"
    },
    {
      "cell_type": "markdown",
      "metadata": {},
      "source": [
        "### Instructions\n",
        "\n",
        "-   Edit the above cell to include your name and student number.\n",
        "-   Submit just this `ipynb` to Canvas. Do not rename, it associates\n",
        "    your student number with the submission automatically."
      ],
      "id": "7e88ba38-85d6-41a3-a14c-e7cafabc921d"
    },
    {
      "cell_type": "code",
      "execution_count": 1,
      "metadata": {},
      "outputs": [],
      "source": [
        "using Distributions, Plots, LaTeXStrings, LinearAlgebra, Statistics, Random, QuantEcon, NLsolve"
      ],
      "id": "87ecd3e0"
    },
    {
      "cell_type": "markdown",
      "metadata": {},
      "source": [
        "## Question 1\n",
        "\n",
        "Consider the original formulation of the asset pricing equations with\n",
        "the stochastic discount factor $m_{t+1}$ in the [Lucas tree\n",
        "model](https://jlperla.github.io/ECON408/lectures/asset_pricing_lucas_trees.html#/consumption-in-equilibrium)\n",
        "with the [Price-to-Dividend\n",
        "Ratio](https://jlperla.github.io/ECON408/lectures/asset_pricing_lucas_trees.html#/price-to-dividend-ratio-with-markov-chain)\n",
        "\n",
        "$$\n",
        "v(X_t) = \\beta {\\mathbb E}_t \\left[ m_{t+1} \\frac{d_{t+1}}{d_t} (1 + v(X_{t+1})) \\right]\n",
        "$$\n",
        "\n",
        "where\n",
        "\n",
        "$$\n",
        "m_{t+1} = \\beta \\frac{u'(c_{t+1})}{u'(c_t)}\n",
        "$$\n",
        "\n",
        "Furthermore, we will consider there may be two processes for $m_{t+1}$\n",
        "and the dividends:\n",
        "\n",
        "$$\n",
        "\\frac{c_{t+1}}{c_t} = G_c(X_{t+1})\n",
        "$$\n",
        "\n",
        "and\n",
        "\n",
        "$$\n",
        "\\frac{d_{t+1}}{d_t} = G_d(X_{t+1})\n",
        "$$\n",
        "\n",
        "With this, the price-dividend ratio equation becomes:\n",
        "\n",
        "$$\n",
        "v(X_t) = \\beta {\\mathbb E}_t \\left[ G_c(X_{t+1})^{-\\gamma} G_d(X_{t+1}) (1 + v(X_{t+1})) \\right]\n",
        "$$\n",
        "\n",
        "and if $X_t \\in S$ is a Markov chain with transition probabilities\n",
        "$P(X_t, X_{t+1})$ then the price-dividend ratio equation becomes:\n",
        "\n",
        "$$\n",
        "v(x) = \\beta \\sum_{x'\\in S} G_c(x')^{-\\gamma} G_d(x') (1 + v(x'))P(x,x')\n",
        "$$\n",
        "\n",
        "The price of the asset itself follows,\n",
        "\n",
        "$$\n",
        "p(x) = \\beta \\sum_{x'\\in S} G_c(x')^{-\\gamma} (G_d(x') x + p(x'))P(x,x')\n",
        "$$\n",
        "\n",
        "### Part (a)\n",
        "\n",
        "In the original lucas tree model, we had that $G_c(x) = G_d(x) = G(x)$.\n",
        "i.e., perfect correlation between the consumption and dividend growth\n",
        "processes.\n",
        "\n",
        "This meant we could write the price-dividend ratio equation as:\n",
        "\n",
        "$$\n",
        "v(x) = \\beta \\sum_{x'\\in S} G(x')^{1 -\\gamma} (1 + v(x'))P(x,x')\n",
        "$$\n",
        "\n",
        "And if we stack up the $v(x)$ as a vector for each $x \\in S$ then we can\n",
        "write this as a linear system, define,\n",
        "\n",
        "$$\n",
        "J_{ij} \\equiv G(x_j)^{1 - \\gamma} P_{ij}\n",
        "$$\n",
        "\n",
        "Then the recursive equation (with $\\mathbb{1}$ a stack of ones) is $$\n",
        "v = \\beta J (\\mathbb{1} + v)\n",
        "$$\n",
        "\n",
        "with solution\n",
        "\n",
        "$$\n",
        "v = \\left( I - \\beta J \\right)^{-1} \\beta J \\mathbb{1}\n",
        "$$\n",
        "\n",
        "Putting this into code with a discretized Markov chain from an AR(1)\n",
        "process with a slight tweak from our original code"
      ],
      "id": "8612b5c6-70a7-4eda-a521-de68304a0afc"
    },
    {
      "cell_type": "code",
      "execution_count": 2,
      "metadata": {},
      "outputs": [
        {
          "output_type": "display_data",
          "metadata": {},
          "data": {
            "text/html": [
              "<img src=\"data:image/png;base64,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\" />"
            ]
          }
        }
      ],
      "source": [
        "# Do not modify this code directly\n",
        "function asset_pricing_model(; beta = 0.96, gamma = 2.0, G = exp,\n",
        "                               rho = 0.9, sigma = 0.02, N = 25)\n",
        "    mc = tauchen(N, rho, sigma)\n",
        "    G_x = G.(mc.state_values)\n",
        "    return (; beta, gamma, mc, G, G_x)\n",
        "end\n",
        "\n",
        "# price/dividend ratio of the Lucas tree\n",
        "function tree_price(ap)\n",
        "    (; beta, mc, gamma, G) = ap\n",
        "    P = mc.p\n",
        "    y = mc.state_values'\n",
        "    J = P .* G.(y) .^ (1 - gamma)\n",
        "    @assert maximum(abs, eigvals(J)) < 1 / beta # check stability\n",
        "    v = (I - beta * J) \\ sum(beta * J, dims = 2)\n",
        "    return (;v)\n",
        "end\n",
        "\n",
        "ap = asset_pricing_model(;rho = 0.9) # change default arguments here.\n",
        "sol = tree_price(ap)\n",
        "plot(ap.G_x, sol.v, xlabel = L\"G(x_t)\", label = L\"v(x_t)\", title=\"Price-to-dividend ratio\")"
      ],
      "id": "bfbaacda"
    },
    {
      "cell_type": "markdown",
      "metadata": {},
      "source": [
        "Change this code to plot the price-dividend ratio equation for a smaller\n",
        "autocorrelation of $\\rho = 0.1$."
      ],
      "id": "185fa2fa-9f80-4ba0-b93e-3bb7a306090f"
    },
    {
      "cell_type": "code",
      "execution_count": 3,
      "metadata": {},
      "outputs": [],
      "source": [
        "# Modify your code here"
      ],
      "id": "ca58ed9f"
    },
    {
      "cell_type": "markdown",
      "metadata": {},
      "source": [
        "Interpret differences in the equation, including the scale and the slope"
      ],
      "id": "88af1001-d1b4-4d78-a60c-5dd00dcd4bfb"
    },
    {
      "cell_type": "markdown",
      "metadata": {},
      "source": [
        "**(double click to edit your answer)**"
      ],
      "id": "bf25438e-980e-41bb-b68c-f9ca8453db59"
    },
    {
      "cell_type": "markdown",
      "metadata": {},
      "source": [
        "### Part (b)\n",
        "\n",
        "Now, suppose we want to modify the original model so that the growth\n",
        "rate of dividends is **inversely correlated** with the growth rate of\n",
        "consumption. Specifically, let the relationship between consumption and\n",
        "dividends be as follows:\n",
        "\n",
        "$$\n",
        "c_{t+1} = G(X_{t+1}) c_t \\quad \\text{and} \\quad d_{t+1} = {G(-X_{t+1})}\n",
        "$$\n",
        "\n",
        "Because $G(X_{t+1}) = \\exp(X_{t+1})$, this means we have\n",
        "\n",
        "$$\n",
        "m_{t+1} = \\beta \\exp(X_{t+1})^{-\\gamma}\n",
        "$$\n",
        "\n",
        "and\n",
        "\n",
        "$$\n",
        "\\frac{d_{t+1}}{d_t} = \\frac{1}{\\exp(X_{t+1})}\n",
        "$$\n",
        "\n",
        "What is the new price-dividend ratio equation? You can write this out in\n",
        "LaTeX or keep it simple and describe the changes relative to the\n",
        "previous equation."
      ],
      "id": "61976cbb-5d18-4df3-a496-a2caa4cd2459"
    },
    {
      "cell_type": "markdown",
      "metadata": {},
      "source": [
        "**(double click to edit your answer)**"
      ],
      "id": "3c32787f-22f9-4bbc-b961-d1b26f12092f"
    },
    {
      "cell_type": "markdown",
      "metadata": {},
      "source": [
        "### Part (c)\n",
        "\n",
        "Take the following code from above for the standard Lucas tree (with\n",
        "perfectly correlated growth rate of dividends and consumption of that\n",
        "asset) and modify it to solve for the price-dividend ratio equation for\n",
        "the new model using the formula above. Note some small changes in the\n",
        "parameters"
      ],
      "id": "2ab293ed-77b7-44a1-b5ed-a0010d1a12f0"
    },
    {
      "cell_type": "code",
      "execution_count": 5,
      "metadata": {},
      "outputs": [
        {
          "output_type": "display_data",
          "metadata": {},
          "data": {
            "text/html": [
              "<img src=\"data:image/png;base64,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\" />"
            ]
          }
        }
      ],
      "source": [
        "# modify here\n",
        "function new_asset_pricing_model(; beta = 0.96, gamma = 2.0, G = exp,\n",
        "                               rho = 0.7, sigma = 0.02, N = 25)\n",
        "    mc = tauchen(N, rho, sigma)\n",
        "    G_x = G.(mc.state_values)\n",
        "    return (; beta, gamma, mc, G, G_x)\n",
        "end\n",
        "\n",
        "function new_tree_price(ap)\n",
        "    (; beta, mc, gamma, G) = ap\n",
        "    P = mc.p\n",
        "    y = mc.state_values'\n",
        "    J = P .* G.(y) .^ (1 - gamma)\n",
        "    @assert maximum(abs, eigvals(J)) < 1 / beta # check stability\n",
        "    v = (I - beta * J) \\ sum(beta * J, dims = 2)\n",
        "    return (;v)\n",
        "end\n",
        "\n",
        "ap = new_asset_pricing_model(;rho = 0.78, gamma = 1.2)\n",
        "sol = new_tree_price(ap)\n",
        "plot(ap.G_x, sol.v, xlabel = L\"G(x_t)\", label = L\"v(x_t)\", title=\"Price-to-dividend ratio\")"
      ],
      "id": "48842dab"
    },
    {
      "cell_type": "markdown",
      "metadata": {},
      "source": [
        "Interpret this result compared to the previous example with perfectly\n",
        "correlated growth rates. In particular, discuss the differences in\n",
        "magnitudes."
      ],
      "id": "0f44a1ec-88ee-4b61-9112-0196e0038314"
    },
    {
      "cell_type": "markdown",
      "metadata": {},
      "source": [
        "**(double click to edit your answer)**"
      ],
      "id": "e1f7cd1e-6782-4998-9750-8beb3050d282"
    }
  ],
  "nbformat": 4,
  "nbformat_minor": 5,
  "metadata": {
    "kernelspec": {
      "name": "julia-1.10",
      "display_name": "Julia 1.10.0",
      "language": "julia"
    },
    "language_info": {
      "name": "julia",
      "file_extension": ".jl",
      "mimetype": "application/julia",
      "version": "1.10.0"
    }
  }
}