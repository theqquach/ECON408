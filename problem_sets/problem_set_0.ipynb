{
  "cells": [
    {
      "cell_type": "markdown",
      "id": "38ec945a-cada-431e-a0f2-e03e1f383164",
      "metadata": {},
      "source": [
        "# ECON408: Assignment 0\n",
        "\n",
        "Jesse Perla, UBC\n",
        "\n",
        "## Setup"
      ]
    },
    {
      "cell_type": "code",
      "execution_count": 1,
      "id": "bfefaad0",
      "metadata": {},
      "outputs": [
        {
          "ename": "ArgumentError",
          "evalue": "ArgumentError: Package Distributions [31c24e10-a181-5473-b8eb-7969acd0382f] is required but does not seem to be installed:\n - Run `Pkg.instantiate()` to install all recorded dependencies.\n",
          "output_type": "error",
          "traceback": [
            "ArgumentError: Package Distributions [31c24e10-a181-5473-b8eb-7969acd0382f] is required but does not seem to be installed:\n",
            " - Run `Pkg.instantiate()` to install all recorded dependencies.\n",
            "\n",
            "\n",
            "Stacktrace:\n",
            "  [1] _require(pkg::Base.PkgId, env::String)\n",
            "    @ Base ./loading.jl:1926\n",
            "  [2] __require_prelocked(uuidkey::Base.PkgId, env::String)\n",
            "    @ Base ./loading.jl:1812\n",
            "  [3] #invoke_in_world#3\n",
            "    @ ./essentials.jl:926 [inlined]\n",
            "  [4] invoke_in_world\n",
            "    @ ./essentials.jl:923 [inlined]\n",
            "  [5] _require_prelocked(uuidkey::Base.PkgId, env::String)\n",
            "    @ Base ./loading.jl:1803\n",
            "  [6] macro expansion\n",
            "    @ ./loading.jl:1790 [inlined]\n",
            "  [7] macro expansion\n",
            "    @ ./lock.jl:267 [inlined]\n",
            "  [8] __require(into::Module, mod::Symbol)\n",
            "    @ Base ./loading.jl:1753\n",
            "  [9] #invoke_in_world#3\n",
            "    @ ./essentials.jl:926 [inlined]\n",
            " [10] invoke_in_world\n",
            "    @ ./essentials.jl:923 [inlined]\n",
            " [11] require(into::Module, mod::Symbol)\n",
            "    @ Base ./loading.jl:1746\n",
            " [12] eval\n",
            "    @ ./boot.jl:385 [inlined]\n",
            " [13] include_string(mapexpr::typeof(REPL.softscope), mod::Module, code::String, filename::String)\n",
            "    @ Base ./loading.jl:2076\n",
            " [14] #invokelatest#2\n",
            "    @ ./essentials.jl:892 [inlined]\n",
            " [15] invokelatest\n",
            "    @ ./essentials.jl:889 [inlined]\n",
            " [16] (::VSCodeServer.var\"#214#215\"{VSCodeServer.NotebookRunCellArguments, String})()\n",
            "    @ VSCodeServer ~/.vscode/extensions/julialang.language-julia-1.73.2/scripts/packages/VSCodeServer/src/serve_notebook.jl:19\n",
            " [17] withpath(f::VSCodeServer.var\"#214#215\"{VSCodeServer.NotebookRunCellArguments, String}, path::String)\n",
            "    @ VSCodeServer ~/.vscode/extensions/julialang.language-julia-1.73.2/scripts/packages/VSCodeServer/src/repl.jl:274\n",
            " [18] notebook_runcell_request(conn::VSCodeServer.JSONRPC.JSONRPCEndpoint{Base.PipeEndpoint, Base.PipeEndpoint}, params::VSCodeServer.NotebookRunCellArguments)\n",
            "    @ VSCodeServer ~/.vscode/extensions/julialang.language-julia-1.73.2/scripts/packages/VSCodeServer/src/serve_notebook.jl:13\n",
            " [19] dispatch_msg(x::VSCodeServer.JSONRPC.JSONRPCEndpoint{Base.PipeEndpoint, Base.PipeEndpoint}, dispatcher::VSCodeServer.JSONRPC.MsgDispatcher, msg::Dict{String, Any})\n",
            "    @ VSCodeServer.JSONRPC ~/.vscode/extensions/julialang.language-julia-1.73.2/scripts/packages/JSONRPC/src/typed.jl:67\n",
            " [20] serve_notebook(pipename::String, outputchannel_logger::Base.CoreLogging.SimpleLogger; crashreporting_pipename::String)\n",
            "    @ VSCodeServer ~/.vscode/extensions/julialang.language-julia-1.73.2/scripts/packages/VSCodeServer/src/serve_notebook.jl:139\n",
            " [21] top-level scope\n",
            "    @ ~/.vscode/extensions/julialang.language-julia-1.73.2/scripts/notebook/notebook.jl:35"
          ]
        }
      ],
      "source": [
        "using Distributions, Plots, LaTeXStrings, LinearAlgebra, Statistics, Random"
      ]
    },
    {
      "cell_type": "markdown",
      "id": "6da80070-3bfd-4ee5-8fc5-5eefeecd2d0d",
      "metadata": {},
      "source": [
        "# Q1\n",
        "\n",
        "Install Julia following instructions in lecture notes/etc. and clone\n",
        "this repository so you can open the notebooks in this repository\n",
        "\n",
        "## Q2\n",
        "\n",
        "Edit the markdown cell below to add some math text wit the Pythagorean\n",
        "theorem (e.g. $x^2 + y^2 = z^2$)"
      ]
    },
    {
      "cell_type": "markdown",
      "id": "42c9e6c8-0b7a-467a-9d1e-a8e0d2928aac",
      "metadata": {},
      "source": [
        "**(double click to enter your answer here)**"
      ]
    },
    {
      "cell_type": "markdown",
      "id": "c059f620-b086-4a24-b82a-e05dc02effb6",
      "metadata": {},
      "source": [
        "## Q3\n",
        "\n",
        "Create a function which which takes the sides of the rectangle and\n",
        "calculates the hypotenuse (i.e., code up $z(x,y) = \\sqrt{x^2 + y^2}$)\n",
        "and calculate $z(3,4)$"
      ]
    },
    {
      "cell_type": "code",
      "execution_count": 2,
      "id": "f9f44edd",
      "metadata": {},
      "outputs": [],
      "source": [
        "# Modify your code here."
      ]
    },
    {
      "cell_type": "markdown",
      "id": "1d3d818a-d595-4e8a-bd9d-5476ee3e2091",
      "metadata": {},
      "source": [
        "## Q4\n",
        "\n",
        "Plot $f(x) = x^2$ for a grid of 20 points of $x \\in [0,1]$. You can make\n",
        "a grid with `range(0, 1, 20)`"
      ]
    },
    {
      "cell_type": "code",
      "execution_count": 4,
      "id": "2fb19ef1",
      "metadata": {},
      "outputs": [],
      "source": [
        "# Modify your code here."
      ]
    },
    {
      "cell_type": "markdown",
      "id": "a3458549-71b7-4636-9d2a-76c1e203d592",
      "metadata": {},
      "source": [
        "## Q3\n",
        "\n",
        "Write a function that draws a 100 random normal variables (use\n",
        "`randn(100)`) and manually calculates the mean and variance. By manually\n",
        "I mean using sums/etc. to implement the standard formulas for mean and\n",
        "variance of your choosing."
      ]
    },
    {
      "cell_type": "code",
      "execution_count": 6,
      "id": "0b833eed",
      "metadata": {},
      "outputs": [],
      "source": [
        "# Modify your code here."
      ]
    }
  ],
  "metadata": {
    "kernelspec": {
      "display_name": "Julia 1.10.1",
      "language": "julia",
      "name": "julia-1.10"
    },
    "language_info": {
      "file_extension": ".jl",
      "mimetype": "application/julia",
      "name": "julia",
      "version": "1.10.1"
    }
  },
  "nbformat": 4,
  "nbformat_minor": 5
}
